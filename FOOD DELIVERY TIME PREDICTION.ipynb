{
 "cells": [
  {
   "cell_type": "code",
   "execution_count": 1,
   "id": "293d96ad",
   "metadata": {},
   "outputs": [],
   "source": [
    "import numpy as np\n",
    "import pandas as pd\n",
    "import seaborn as sns\n",
    "import matplotlib.pyplot as plt\n",
    "from datetime import datetime, timedelta"
   ]
  },
  {
   "cell_type": "code",
   "execution_count": 2,
   "id": "15ada192",
   "metadata": {},
   "outputs": [
    {
     "name": "stderr",
     "output_type": "stream",
     "text": [
      "WARNING: You are using pip version 20.2.3; however, version 23.0.1 is available."
     ]
    },
    {
     "name": "stdout",
     "output_type": "stream",
     "text": [
      "Requirement already satisfied: geopy in c:\\python 3.9.2\\lib\\site-packages (2.3.0)\n",
      "Requirement already satisfied: geographiclib<3,>=1.52 in c:\\python 3.9.2\\lib\\site-packages (from geopy) (2.0)\n"
     ]
    },
    {
     "name": "stderr",
     "output_type": "stream",
     "text": [
      "\n",
      "You should consider upgrading via the 'c:\\python 3.9.2\\python.exe -m pip install --upgrade pip' command.\n"
     ]
    }
   ],
   "source": [
    "!pip install geopy"
   ]
  },
  {
   "cell_type": "code",
   "execution_count": 3,
   "id": "4cc4ab10",
   "metadata": {},
   "outputs": [],
   "source": [
    "data = pd.read_csv(\"Sample_Submission.csv\")"
   ]
  },
  {
   "cell_type": "code",
   "execution_count": 4,
   "id": "952f3d4c",
   "metadata": {},
   "outputs": [
    {
     "data": {
      "text/html": [
       "<div>\n",
       "<style scoped>\n",
       "    .dataframe tbody tr th:only-of-type {\n",
       "        vertical-align: middle;\n",
       "    }\n",
       "\n",
       "    .dataframe tbody tr th {\n",
       "        vertical-align: top;\n",
       "    }\n",
       "\n",
       "    .dataframe thead th {\n",
       "        text-align: right;\n",
       "    }\n",
       "</style>\n",
       "<table border=\"1\" class=\"dataframe\">\n",
       "  <thead>\n",
       "    <tr style=\"text-align: right;\">\n",
       "      <th></th>\n",
       "      <th>ID</th>\n",
       "      <th>Time_taken (min)</th>\n",
       "    </tr>\n",
       "  </thead>\n",
       "  <tbody>\n",
       "    <tr>\n",
       "      <th>0</th>\n",
       "      <td>0x2318</td>\n",
       "      <td>25.668333</td>\n",
       "    </tr>\n",
       "    <tr>\n",
       "      <th>1</th>\n",
       "      <td>0x3474</td>\n",
       "      <td>27.881667</td>\n",
       "    </tr>\n",
       "    <tr>\n",
       "      <th>2</th>\n",
       "      <td>0x9420</td>\n",
       "      <td>27.023333</td>\n",
       "    </tr>\n",
       "    <tr>\n",
       "      <th>3</th>\n",
       "      <td>0x72ee</td>\n",
       "      <td>28.153333</td>\n",
       "    </tr>\n",
       "    <tr>\n",
       "      <th>4</th>\n",
       "      <td>0xa759</td>\n",
       "      <td>21.018333</td>\n",
       "    </tr>\n",
       "  </tbody>\n",
       "</table>\n",
       "</div>"
      ],
      "text/plain": [
       "        ID  Time_taken (min)\n",
       "0  0x2318          25.668333\n",
       "1  0x3474          27.881667\n",
       "2  0x9420          27.023333\n",
       "3  0x72ee          28.153333\n",
       "4  0xa759          21.018333"
      ]
     },
     "execution_count": 4,
     "metadata": {},
     "output_type": "execute_result"
    }
   ],
   "source": [
    "data.head(5)"
   ]
  },
  {
   "cell_type": "code",
   "execution_count": 5,
   "id": "f6fa25d8",
   "metadata": {},
   "outputs": [],
   "source": [
    "df_train = pd.read_csv('train.csv')"
   ]
  },
  {
   "cell_type": "code",
   "execution_count": 6,
   "id": "24b38fe0",
   "metadata": {},
   "outputs": [
    {
     "data": {
      "text/html": [
       "<div>\n",
       "<style scoped>\n",
       "    .dataframe tbody tr th:only-of-type {\n",
       "        vertical-align: middle;\n",
       "    }\n",
       "\n",
       "    .dataframe tbody tr th {\n",
       "        vertical-align: top;\n",
       "    }\n",
       "\n",
       "    .dataframe thead th {\n",
       "        text-align: right;\n",
       "    }\n",
       "</style>\n",
       "<table border=\"1\" class=\"dataframe\">\n",
       "  <thead>\n",
       "    <tr style=\"text-align: right;\">\n",
       "      <th></th>\n",
       "      <th>ID</th>\n",
       "      <th>Delivery_person_ID</th>\n",
       "      <th>Delivery_person_Age</th>\n",
       "      <th>Delivery_person_Ratings</th>\n",
       "      <th>Restaurant_latitude</th>\n",
       "      <th>Restaurant_longitude</th>\n",
       "      <th>Delivery_location_latitude</th>\n",
       "      <th>Delivery_location_longitude</th>\n",
       "      <th>Order_Date</th>\n",
       "      <th>Time_Orderd</th>\n",
       "      <th>Time_Order_picked</th>\n",
       "      <th>Weatherconditions</th>\n",
       "      <th>Road_traffic_density</th>\n",
       "      <th>Vehicle_condition</th>\n",
       "      <th>Type_of_order</th>\n",
       "      <th>Type_of_vehicle</th>\n",
       "      <th>multiple_deliveries</th>\n",
       "      <th>Festival</th>\n",
       "      <th>City</th>\n",
       "      <th>Time_taken(min)</th>\n",
       "    </tr>\n",
       "  </thead>\n",
       "  <tbody>\n",
       "    <tr>\n",
       "      <th>0</th>\n",
       "      <td>0x4607</td>\n",
       "      <td>INDORES13DEL02</td>\n",
       "      <td>37</td>\n",
       "      <td>4.9</td>\n",
       "      <td>22.745049</td>\n",
       "      <td>75.892471</td>\n",
       "      <td>22.765049</td>\n",
       "      <td>75.912471</td>\n",
       "      <td>19-03-2022</td>\n",
       "      <td>11:30:00</td>\n",
       "      <td>11:45:00</td>\n",
       "      <td>conditions Sunny</td>\n",
       "      <td>High</td>\n",
       "      <td>2</td>\n",
       "      <td>Snack</td>\n",
       "      <td>motorcycle</td>\n",
       "      <td>0</td>\n",
       "      <td>No</td>\n",
       "      <td>Urban</td>\n",
       "      <td>(min) 24</td>\n",
       "    </tr>\n",
       "    <tr>\n",
       "      <th>1</th>\n",
       "      <td>0xb379</td>\n",
       "      <td>BANGRES18DEL02</td>\n",
       "      <td>34</td>\n",
       "      <td>4.5</td>\n",
       "      <td>12.913041</td>\n",
       "      <td>77.683237</td>\n",
       "      <td>13.043041</td>\n",
       "      <td>77.813237</td>\n",
       "      <td>25-03-2022</td>\n",
       "      <td>19:45:00</td>\n",
       "      <td>19:50:00</td>\n",
       "      <td>conditions Stormy</td>\n",
       "      <td>Jam</td>\n",
       "      <td>2</td>\n",
       "      <td>Snack</td>\n",
       "      <td>scooter</td>\n",
       "      <td>1</td>\n",
       "      <td>No</td>\n",
       "      <td>Metropolitian</td>\n",
       "      <td>(min) 33</td>\n",
       "    </tr>\n",
       "    <tr>\n",
       "      <th>2</th>\n",
       "      <td>0x5d6d</td>\n",
       "      <td>BANGRES19DEL01</td>\n",
       "      <td>23</td>\n",
       "      <td>4.4</td>\n",
       "      <td>12.914264</td>\n",
       "      <td>77.678400</td>\n",
       "      <td>12.924264</td>\n",
       "      <td>77.688400</td>\n",
       "      <td>19-03-2022</td>\n",
       "      <td>08:30:00</td>\n",
       "      <td>08:45:00</td>\n",
       "      <td>conditions Sandstorms</td>\n",
       "      <td>Low</td>\n",
       "      <td>0</td>\n",
       "      <td>Drinks</td>\n",
       "      <td>motorcycle</td>\n",
       "      <td>1</td>\n",
       "      <td>No</td>\n",
       "      <td>Urban</td>\n",
       "      <td>(min) 26</td>\n",
       "    </tr>\n",
       "    <tr>\n",
       "      <th>3</th>\n",
       "      <td>0x7a6a</td>\n",
       "      <td>COIMBRES13DEL02</td>\n",
       "      <td>38</td>\n",
       "      <td>4.7</td>\n",
       "      <td>11.003669</td>\n",
       "      <td>76.976494</td>\n",
       "      <td>11.053669</td>\n",
       "      <td>77.026494</td>\n",
       "      <td>05-04-2022</td>\n",
       "      <td>18:00:00</td>\n",
       "      <td>18:10:00</td>\n",
       "      <td>conditions Sunny</td>\n",
       "      <td>Medium</td>\n",
       "      <td>0</td>\n",
       "      <td>Buffet</td>\n",
       "      <td>motorcycle</td>\n",
       "      <td>1</td>\n",
       "      <td>No</td>\n",
       "      <td>Metropolitian</td>\n",
       "      <td>(min) 21</td>\n",
       "    </tr>\n",
       "    <tr>\n",
       "      <th>4</th>\n",
       "      <td>0x70a2</td>\n",
       "      <td>CHENRES12DEL01</td>\n",
       "      <td>32</td>\n",
       "      <td>4.6</td>\n",
       "      <td>12.972793</td>\n",
       "      <td>80.249982</td>\n",
       "      <td>13.012793</td>\n",
       "      <td>80.289982</td>\n",
       "      <td>26-03-2022</td>\n",
       "      <td>13:30:00</td>\n",
       "      <td>13:45:00</td>\n",
       "      <td>conditions Cloudy</td>\n",
       "      <td>High</td>\n",
       "      <td>1</td>\n",
       "      <td>Snack</td>\n",
       "      <td>scooter</td>\n",
       "      <td>1</td>\n",
       "      <td>No</td>\n",
       "      <td>Metropolitian</td>\n",
       "      <td>(min) 30</td>\n",
       "    </tr>\n",
       "  </tbody>\n",
       "</table>\n",
       "</div>"
      ],
      "text/plain": [
       "        ID Delivery_person_ID Delivery_person_Age Delivery_person_Ratings  \\\n",
       "0  0x4607     INDORES13DEL02                   37                     4.9   \n",
       "1  0xb379     BANGRES18DEL02                   34                     4.5   \n",
       "2  0x5d6d     BANGRES19DEL01                   23                     4.4   \n",
       "3  0x7a6a    COIMBRES13DEL02                   38                     4.7   \n",
       "4  0x70a2     CHENRES12DEL01                   32                     4.6   \n",
       "\n",
       "   Restaurant_latitude  Restaurant_longitude  Delivery_location_latitude  \\\n",
       "0            22.745049             75.892471                   22.765049   \n",
       "1            12.913041             77.683237                   13.043041   \n",
       "2            12.914264             77.678400                   12.924264   \n",
       "3            11.003669             76.976494                   11.053669   \n",
       "4            12.972793             80.249982                   13.012793   \n",
       "\n",
       "   Delivery_location_longitude  Order_Date Time_Orderd Time_Order_picked  \\\n",
       "0                    75.912471  19-03-2022    11:30:00          11:45:00   \n",
       "1                    77.813237  25-03-2022    19:45:00          19:50:00   \n",
       "2                    77.688400  19-03-2022    08:30:00          08:45:00   \n",
       "3                    77.026494  05-04-2022    18:00:00          18:10:00   \n",
       "4                    80.289982  26-03-2022    13:30:00          13:45:00   \n",
       "\n",
       "       Weatherconditions Road_traffic_density  Vehicle_condition  \\\n",
       "0       conditions Sunny                High                   2   \n",
       "1      conditions Stormy                 Jam                   2   \n",
       "2  conditions Sandstorms                 Low                   0   \n",
       "3       conditions Sunny              Medium                   0   \n",
       "4      conditions Cloudy                High                   1   \n",
       "\n",
       "  Type_of_order Type_of_vehicle multiple_deliveries Festival            City  \\\n",
       "0        Snack      motorcycle                    0      No           Urban    \n",
       "1        Snack         scooter                    1      No   Metropolitian    \n",
       "2       Drinks      motorcycle                    1      No           Urban    \n",
       "3       Buffet      motorcycle                    1      No   Metropolitian    \n",
       "4        Snack         scooter                    1      No   Metropolitian    \n",
       "\n",
       "  Time_taken(min)  \n",
       "0        (min) 24  \n",
       "1        (min) 33  \n",
       "2        (min) 26  \n",
       "3        (min) 21  \n",
       "4        (min) 30  "
      ]
     },
     "execution_count": 6,
     "metadata": {},
     "output_type": "execute_result"
    }
   ],
   "source": [
    "df_train.head()"
   ]
  },
  {
   "cell_type": "code",
   "execution_count": 7,
   "id": "63f4503f",
   "metadata": {},
   "outputs": [
    {
     "data": {
      "text/plain": [
       "(45593, 20)"
      ]
     },
     "execution_count": 7,
     "metadata": {},
     "output_type": "execute_result"
    }
   ],
   "source": [
    "df_train.shape"
   ]
  },
  {
   "cell_type": "code",
   "execution_count": 8,
   "id": "da3c0e19",
   "metadata": {},
   "outputs": [
    {
     "data": {
      "text/plain": [
       "ID                             0\n",
       "Delivery_person_ID             0\n",
       "Delivery_person_Age            0\n",
       "Delivery_person_Ratings        0\n",
       "Restaurant_latitude            0\n",
       "Restaurant_longitude           0\n",
       "Delivery_location_latitude     0\n",
       "Delivery_location_longitude    0\n",
       "Order_Date                     0\n",
       "Time_Orderd                    0\n",
       "Time_Order_picked              0\n",
       "Weatherconditions              0\n",
       "Road_traffic_density           0\n",
       "Vehicle_condition              0\n",
       "Type_of_order                  0\n",
       "Type_of_vehicle                0\n",
       "multiple_deliveries            0\n",
       "Festival                       0\n",
       "City                           0\n",
       "Time_taken(min)                0\n",
       "dtype: int64"
      ]
     },
     "execution_count": 8,
     "metadata": {},
     "output_type": "execute_result"
    }
   ],
   "source": [
    "df_train.isnull().sum()"
   ]
  },
  {
   "cell_type": "code",
   "execution_count": 9,
   "id": "a9dea144",
   "metadata": {},
   "outputs": [
    {
     "name": "stdout",
     "output_type": "stream",
     "text": [
      "<class 'pandas.core.frame.DataFrame'>\n",
      "RangeIndex: 45593 entries, 0 to 45592\n",
      "Data columns (total 20 columns):\n",
      " #   Column                       Non-Null Count  Dtype  \n",
      "---  ------                       --------------  -----  \n",
      " 0   ID                           45593 non-null  object \n",
      " 1   Delivery_person_ID           45593 non-null  object \n",
      " 2   Delivery_person_Age          45593 non-null  object \n",
      " 3   Delivery_person_Ratings      45593 non-null  object \n",
      " 4   Restaurant_latitude          45593 non-null  float64\n",
      " 5   Restaurant_longitude         45593 non-null  float64\n",
      " 6   Delivery_location_latitude   45593 non-null  float64\n",
      " 7   Delivery_location_longitude  45593 non-null  float64\n",
      " 8   Order_Date                   45593 non-null  object \n",
      " 9   Time_Orderd                  45593 non-null  object \n",
      " 10  Time_Order_picked            45593 non-null  object \n",
      " 11  Weatherconditions            45593 non-null  object \n",
      " 12  Road_traffic_density         45593 non-null  object \n",
      " 13  Vehicle_condition            45593 non-null  int64  \n",
      " 14  Type_of_order                45593 non-null  object \n",
      " 15  Type_of_vehicle              45593 non-null  object \n",
      " 16  multiple_deliveries          45593 non-null  object \n",
      " 17  Festival                     45593 non-null  object \n",
      " 18  City                         45593 non-null  object \n",
      " 19  Time_taken(min)              45593 non-null  object \n",
      "dtypes: float64(4), int64(1), object(15)\n",
      "memory usage: 7.0+ MB\n"
     ]
    }
   ],
   "source": [
    "df_train.info()"
   ]
  },
  {
   "cell_type": "code",
   "execution_count": 10,
   "id": "62582867",
   "metadata": {},
   "outputs": [],
   "source": [
    "df_test = pd.read_csv('test.csv')"
   ]
  },
  {
   "cell_type": "code",
   "execution_count": 11,
   "id": "c96204a1",
   "metadata": {},
   "outputs": [
    {
     "data": {
      "text/html": [
       "<div>\n",
       "<style scoped>\n",
       "    .dataframe tbody tr th:only-of-type {\n",
       "        vertical-align: middle;\n",
       "    }\n",
       "\n",
       "    .dataframe tbody tr th {\n",
       "        vertical-align: top;\n",
       "    }\n",
       "\n",
       "    .dataframe thead th {\n",
       "        text-align: right;\n",
       "    }\n",
       "</style>\n",
       "<table border=\"1\" class=\"dataframe\">\n",
       "  <thead>\n",
       "    <tr style=\"text-align: right;\">\n",
       "      <th></th>\n",
       "      <th>ID</th>\n",
       "      <th>Delivery_person_ID</th>\n",
       "      <th>Delivery_person_Age</th>\n",
       "      <th>Delivery_person_Ratings</th>\n",
       "      <th>Restaurant_latitude</th>\n",
       "      <th>Restaurant_longitude</th>\n",
       "      <th>Delivery_location_latitude</th>\n",
       "      <th>Delivery_location_longitude</th>\n",
       "      <th>Order_Date</th>\n",
       "      <th>Time_Orderd</th>\n",
       "      <th>Time_Order_picked</th>\n",
       "      <th>Weatherconditions</th>\n",
       "      <th>Road_traffic_density</th>\n",
       "      <th>Vehicle_condition</th>\n",
       "      <th>Type_of_order</th>\n",
       "      <th>Type_of_vehicle</th>\n",
       "      <th>multiple_deliveries</th>\n",
       "      <th>Festival</th>\n",
       "      <th>City</th>\n",
       "    </tr>\n",
       "  </thead>\n",
       "  <tbody>\n",
       "    <tr>\n",
       "      <th>0</th>\n",
       "      <td>0x2318</td>\n",
       "      <td>COIMBRES13DEL01</td>\n",
       "      <td>NaN</td>\n",
       "      <td>NaN</td>\n",
       "      <td>11.003669</td>\n",
       "      <td>76.976494</td>\n",
       "      <td>11.043669</td>\n",
       "      <td>77.016494</td>\n",
       "      <td>30-03-2022</td>\n",
       "      <td>NaN</td>\n",
       "      <td>15:05:00</td>\n",
       "      <td>conditions NaN</td>\n",
       "      <td>NaN</td>\n",
       "      <td>3</td>\n",
       "      <td>Drinks</td>\n",
       "      <td>electric_scooter</td>\n",
       "      <td>1</td>\n",
       "      <td>No</td>\n",
       "      <td>Metropolitian</td>\n",
       "    </tr>\n",
       "    <tr>\n",
       "      <th>1</th>\n",
       "      <td>0x3474</td>\n",
       "      <td>BANGRES15DEL01</td>\n",
       "      <td>28</td>\n",
       "      <td>4.6</td>\n",
       "      <td>12.975377</td>\n",
       "      <td>77.696664</td>\n",
       "      <td>13.085377</td>\n",
       "      <td>77.806664</td>\n",
       "      <td>29-03-2022</td>\n",
       "      <td>20:30:00</td>\n",
       "      <td>20:35:00</td>\n",
       "      <td>conditions Windy</td>\n",
       "      <td>Jam</td>\n",
       "      <td>0</td>\n",
       "      <td>Snack</td>\n",
       "      <td>motorcycle</td>\n",
       "      <td>1</td>\n",
       "      <td>No</td>\n",
       "      <td>Metropolitian</td>\n",
       "    </tr>\n",
       "    <tr>\n",
       "      <th>2</th>\n",
       "      <td>0x9420</td>\n",
       "      <td>JAPRES09DEL03</td>\n",
       "      <td>23</td>\n",
       "      <td>4.5</td>\n",
       "      <td>26.911378</td>\n",
       "      <td>75.789034</td>\n",
       "      <td>27.001378</td>\n",
       "      <td>75.879034</td>\n",
       "      <td>10-03-2022</td>\n",
       "      <td>19:35:00</td>\n",
       "      <td>19:45:00</td>\n",
       "      <td>conditions Stormy</td>\n",
       "      <td>Jam</td>\n",
       "      <td>0</td>\n",
       "      <td>Drinks</td>\n",
       "      <td>motorcycle</td>\n",
       "      <td>1</td>\n",
       "      <td>No</td>\n",
       "      <td>Metropolitian</td>\n",
       "    </tr>\n",
       "    <tr>\n",
       "      <th>3</th>\n",
       "      <td>0x72ee</td>\n",
       "      <td>JAPRES07DEL03</td>\n",
       "      <td>21</td>\n",
       "      <td>4.8</td>\n",
       "      <td>26.766536</td>\n",
       "      <td>75.837333</td>\n",
       "      <td>26.856536</td>\n",
       "      <td>75.927333</td>\n",
       "      <td>02-04-2022</td>\n",
       "      <td>17:15:00</td>\n",
       "      <td>17:20:00</td>\n",
       "      <td>conditions Fog</td>\n",
       "      <td>Medium</td>\n",
       "      <td>1</td>\n",
       "      <td>Meal</td>\n",
       "      <td>scooter</td>\n",
       "      <td>1</td>\n",
       "      <td>No</td>\n",
       "      <td>Metropolitian</td>\n",
       "    </tr>\n",
       "    <tr>\n",
       "      <th>4</th>\n",
       "      <td>0xa759</td>\n",
       "      <td>CHENRES19DEL01</td>\n",
       "      <td>31</td>\n",
       "      <td>4.6</td>\n",
       "      <td>12.986047</td>\n",
       "      <td>80.218114</td>\n",
       "      <td>13.096047</td>\n",
       "      <td>80.328114</td>\n",
       "      <td>27-03-2022</td>\n",
       "      <td>18:25:00</td>\n",
       "      <td>18:40:00</td>\n",
       "      <td>conditions Sunny</td>\n",
       "      <td>Medium</td>\n",
       "      <td>2</td>\n",
       "      <td>Drinks</td>\n",
       "      <td>scooter</td>\n",
       "      <td>1</td>\n",
       "      <td>No</td>\n",
       "      <td>Metropolitian</td>\n",
       "    </tr>\n",
       "  </tbody>\n",
       "</table>\n",
       "</div>"
      ],
      "text/plain": [
       "        ID Delivery_person_ID Delivery_person_Age Delivery_person_Ratings  \\\n",
       "0  0x2318    COIMBRES13DEL01                 NaN                     NaN    \n",
       "1  0x3474     BANGRES15DEL01                   28                     4.6   \n",
       "2  0x9420      JAPRES09DEL03                   23                     4.5   \n",
       "3  0x72ee      JAPRES07DEL03                   21                     4.8   \n",
       "4  0xa759     CHENRES19DEL01                   31                     4.6   \n",
       "\n",
       "   Restaurant_latitude  Restaurant_longitude  Delivery_location_latitude  \\\n",
       "0            11.003669             76.976494                   11.043669   \n",
       "1            12.975377             77.696664                   13.085377   \n",
       "2            26.911378             75.789034                   27.001378   \n",
       "3            26.766536             75.837333                   26.856536   \n",
       "4            12.986047             80.218114                   13.096047   \n",
       "\n",
       "   Delivery_location_longitude  Order_Date Time_Orderd Time_Order_picked  \\\n",
       "0                    77.016494  30-03-2022        NaN           15:05:00   \n",
       "1                    77.806664  29-03-2022    20:30:00          20:35:00   \n",
       "2                    75.879034  10-03-2022    19:35:00          19:45:00   \n",
       "3                    75.927333  02-04-2022    17:15:00          17:20:00   \n",
       "4                    80.328114  27-03-2022    18:25:00          18:40:00   \n",
       "\n",
       "   Weatherconditions Road_traffic_density  Vehicle_condition Type_of_order  \\\n",
       "0     conditions NaN                 NaN                   3       Drinks    \n",
       "1   conditions Windy                 Jam                   0        Snack    \n",
       "2  conditions Stormy                 Jam                   0       Drinks    \n",
       "3     conditions Fog              Medium                   1         Meal    \n",
       "4   conditions Sunny              Medium                   2       Drinks    \n",
       "\n",
       "     Type_of_vehicle multiple_deliveries Festival            City  \n",
       "0  electric_scooter                    1      No   Metropolitian   \n",
       "1        motorcycle                    1      No   Metropolitian   \n",
       "2        motorcycle                    1      No   Metropolitian   \n",
       "3           scooter                    1      No   Metropolitian   \n",
       "4           scooter                    1      No   Metropolitian   "
      ]
     },
     "execution_count": 11,
     "metadata": {},
     "output_type": "execute_result"
    }
   ],
   "source": [
    "df_test.head()"
   ]
  },
  {
   "cell_type": "code",
   "execution_count": 12,
   "id": "f17b5a87",
   "metadata": {},
   "outputs": [
    {
     "data": {
      "text/plain": [
       "(11399, 19)"
      ]
     },
     "execution_count": 12,
     "metadata": {},
     "output_type": "execute_result"
    }
   ],
   "source": [
    "df_test.shape"
   ]
  },
  {
   "cell_type": "code",
   "execution_count": 13,
   "id": "a3c72a7c",
   "metadata": {},
   "outputs": [
    {
     "name": "stdout",
     "output_type": "stream",
     "text": [
      "<class 'pandas.core.frame.DataFrame'>\n",
      "RangeIndex: 11399 entries, 0 to 11398\n",
      "Data columns (total 19 columns):\n",
      " #   Column                       Non-Null Count  Dtype  \n",
      "---  ------                       --------------  -----  \n",
      " 0   ID                           11399 non-null  object \n",
      " 1   Delivery_person_ID           11399 non-null  object \n",
      " 2   Delivery_person_Age          11399 non-null  object \n",
      " 3   Delivery_person_Ratings      11399 non-null  object \n",
      " 4   Restaurant_latitude          11399 non-null  float64\n",
      " 5   Restaurant_longitude         11399 non-null  float64\n",
      " 6   Delivery_location_latitude   11399 non-null  float64\n",
      " 7   Delivery_location_longitude  11399 non-null  float64\n",
      " 8   Order_Date                   11399 non-null  object \n",
      " 9   Time_Orderd                  11399 non-null  object \n",
      " 10  Time_Order_picked            11399 non-null  object \n",
      " 11  Weatherconditions            11399 non-null  object \n",
      " 12  Road_traffic_density         11399 non-null  object \n",
      " 13  Vehicle_condition            11399 non-null  int64  \n",
      " 14  Type_of_order                11399 non-null  object \n",
      " 15  Type_of_vehicle              11399 non-null  object \n",
      " 16  multiple_deliveries          11399 non-null  object \n",
      " 17  Festival                     11399 non-null  object \n",
      " 18  City                         11399 non-null  object \n",
      "dtypes: float64(4), int64(1), object(14)\n",
      "memory usage: 1.7+ MB\n"
     ]
    }
   ],
   "source": [
    "df_test.info()"
   ]
  },
  {
   "cell_type": "markdown",
   "id": "5ddae24b",
   "metadata": {},
   "source": [
    "we checked everything and we got well but there could be NAN values hide so let's find out"
   ]
  },
  {
   "cell_type": "code",
   "execution_count": 14,
   "id": "d3083162",
   "metadata": {},
   "outputs": [
    {
     "data": {
      "text/plain": [
       "ID                                0\n",
       "Delivery_person_ID                0\n",
       "Delivery_person_Age            1854\n",
       "Delivery_person_Ratings        1908\n",
       "Restaurant_latitude               0\n",
       "Restaurant_longitude              0\n",
       "Delivery_location_latitude        0\n",
       "Delivery_location_longitude       0\n",
       "Order_Date                        0\n",
       "Time_Orderd                    1731\n",
       "Time_Order_picked                 0\n",
       "Weatherconditions               616\n",
       "Road_traffic_density            601\n",
       "Vehicle_condition                 0\n",
       "Type_of_order                     0\n",
       "Type_of_vehicle                   0\n",
       "multiple_deliveries             993\n",
       "Festival                        228\n",
       "City                           1200\n",
       "Time_taken(min)                   0\n",
       "dtype: int64"
      ]
     },
     "execution_count": 14,
     "metadata": {},
     "output_type": "execute_result"
    }
   ],
   "source": [
    "df_train=df_train.replace('NaN', float(np.nan), regex=True)\n",
    "df_train.isnull().sum()"
   ]
  },
  {
   "cell_type": "code",
   "execution_count": 15,
   "id": "193d8d8b",
   "metadata": {},
   "outputs": [
    {
     "data": {
      "text/plain": [
       "ID                               0\n",
       "Delivery_person_ID               0\n",
       "Delivery_person_Age            491\n",
       "Delivery_person_Ratings        507\n",
       "Restaurant_latitude              0\n",
       "Restaurant_longitude             0\n",
       "Delivery_location_latitude       0\n",
       "Delivery_location_longitude      0\n",
       "Order_Date                       0\n",
       "Time_Orderd                    444\n",
       "Time_Order_picked                0\n",
       "Weatherconditions              158\n",
       "Road_traffic_density           154\n",
       "Vehicle_condition                0\n",
       "Type_of_order                    0\n",
       "Type_of_vehicle                  0\n",
       "multiple_deliveries            238\n",
       "Festival                        65\n",
       "City                           324\n",
       "dtype: int64"
      ]
     },
     "execution_count": 15,
     "metadata": {},
     "output_type": "execute_result"
    }
   ],
   "source": [
    "df_test = df_test.replace('NaN', float(np.nan), regex=True)\n",
    "df_test.isnull().sum()"
   ]
  },
  {
   "cell_type": "markdown",
   "id": "7ae1a030",
   "metadata": {},
   "source": [
    "now we will join train and test data for cleaning"
   ]
  },
  {
   "cell_type": "code",
   "execution_count": 16,
   "id": "d72e92be",
   "metadata": {},
   "outputs": [],
   "source": [
    "df = pd.concat([df_test.assign(indic = 'test'), df_train.assign(indic='train')])"
   ]
  },
  {
   "cell_type": "code",
   "execution_count": 17,
   "id": "02a24695",
   "metadata": {},
   "outputs": [
    {
     "data": {
      "text/html": [
       "<div>\n",
       "<style scoped>\n",
       "    .dataframe tbody tr th:only-of-type {\n",
       "        vertical-align: middle;\n",
       "    }\n",
       "\n",
       "    .dataframe tbody tr th {\n",
       "        vertical-align: top;\n",
       "    }\n",
       "\n",
       "    .dataframe thead th {\n",
       "        text-align: right;\n",
       "    }\n",
       "</style>\n",
       "<table border=\"1\" class=\"dataframe\">\n",
       "  <thead>\n",
       "    <tr style=\"text-align: right;\">\n",
       "      <th></th>\n",
       "      <th>ID</th>\n",
       "      <th>Delivery_person_ID</th>\n",
       "      <th>Delivery_person_Age</th>\n",
       "      <th>Delivery_person_Ratings</th>\n",
       "      <th>Restaurant_latitude</th>\n",
       "      <th>Restaurant_longitude</th>\n",
       "      <th>Delivery_location_latitude</th>\n",
       "      <th>Delivery_location_longitude</th>\n",
       "      <th>Order_Date</th>\n",
       "      <th>Time_Orderd</th>\n",
       "      <th>...</th>\n",
       "      <th>Weatherconditions</th>\n",
       "      <th>Road_traffic_density</th>\n",
       "      <th>Vehicle_condition</th>\n",
       "      <th>Type_of_order</th>\n",
       "      <th>Type_of_vehicle</th>\n",
       "      <th>multiple_deliveries</th>\n",
       "      <th>Festival</th>\n",
       "      <th>City</th>\n",
       "      <th>indic</th>\n",
       "      <th>Time_taken(min)</th>\n",
       "    </tr>\n",
       "  </thead>\n",
       "  <tbody>\n",
       "    <tr>\n",
       "      <th>0</th>\n",
       "      <td>0x2318</td>\n",
       "      <td>COIMBRES13DEL01</td>\n",
       "      <td>NaN</td>\n",
       "      <td>NaN</td>\n",
       "      <td>11.003669</td>\n",
       "      <td>76.976494</td>\n",
       "      <td>11.043669</td>\n",
       "      <td>77.016494</td>\n",
       "      <td>30-03-2022</td>\n",
       "      <td>NaN</td>\n",
       "      <td>...</td>\n",
       "      <td>NaN</td>\n",
       "      <td>NaN</td>\n",
       "      <td>3</td>\n",
       "      <td>Drinks</td>\n",
       "      <td>electric_scooter</td>\n",
       "      <td>1</td>\n",
       "      <td>No</td>\n",
       "      <td>Metropolitian</td>\n",
       "      <td>test</td>\n",
       "      <td>NaN</td>\n",
       "    </tr>\n",
       "    <tr>\n",
       "      <th>1</th>\n",
       "      <td>0x3474</td>\n",
       "      <td>BANGRES15DEL01</td>\n",
       "      <td>28</td>\n",
       "      <td>4.6</td>\n",
       "      <td>12.975377</td>\n",
       "      <td>77.696664</td>\n",
       "      <td>13.085377</td>\n",
       "      <td>77.806664</td>\n",
       "      <td>29-03-2022</td>\n",
       "      <td>20:30:00</td>\n",
       "      <td>...</td>\n",
       "      <td>conditions Windy</td>\n",
       "      <td>Jam</td>\n",
       "      <td>0</td>\n",
       "      <td>Snack</td>\n",
       "      <td>motorcycle</td>\n",
       "      <td>1</td>\n",
       "      <td>No</td>\n",
       "      <td>Metropolitian</td>\n",
       "      <td>test</td>\n",
       "      <td>NaN</td>\n",
       "    </tr>\n",
       "    <tr>\n",
       "      <th>2</th>\n",
       "      <td>0x9420</td>\n",
       "      <td>JAPRES09DEL03</td>\n",
       "      <td>23</td>\n",
       "      <td>4.5</td>\n",
       "      <td>26.911378</td>\n",
       "      <td>75.789034</td>\n",
       "      <td>27.001378</td>\n",
       "      <td>75.879034</td>\n",
       "      <td>10-03-2022</td>\n",
       "      <td>19:35:00</td>\n",
       "      <td>...</td>\n",
       "      <td>conditions Stormy</td>\n",
       "      <td>Jam</td>\n",
       "      <td>0</td>\n",
       "      <td>Drinks</td>\n",
       "      <td>motorcycle</td>\n",
       "      <td>1</td>\n",
       "      <td>No</td>\n",
       "      <td>Metropolitian</td>\n",
       "      <td>test</td>\n",
       "      <td>NaN</td>\n",
       "    </tr>\n",
       "    <tr>\n",
       "      <th>3</th>\n",
       "      <td>0x72ee</td>\n",
       "      <td>JAPRES07DEL03</td>\n",
       "      <td>21</td>\n",
       "      <td>4.8</td>\n",
       "      <td>26.766536</td>\n",
       "      <td>75.837333</td>\n",
       "      <td>26.856536</td>\n",
       "      <td>75.927333</td>\n",
       "      <td>02-04-2022</td>\n",
       "      <td>17:15:00</td>\n",
       "      <td>...</td>\n",
       "      <td>conditions Fog</td>\n",
       "      <td>Medium</td>\n",
       "      <td>1</td>\n",
       "      <td>Meal</td>\n",
       "      <td>scooter</td>\n",
       "      <td>1</td>\n",
       "      <td>No</td>\n",
       "      <td>Metropolitian</td>\n",
       "      <td>test</td>\n",
       "      <td>NaN</td>\n",
       "    </tr>\n",
       "    <tr>\n",
       "      <th>4</th>\n",
       "      <td>0xa759</td>\n",
       "      <td>CHENRES19DEL01</td>\n",
       "      <td>31</td>\n",
       "      <td>4.6</td>\n",
       "      <td>12.986047</td>\n",
       "      <td>80.218114</td>\n",
       "      <td>13.096047</td>\n",
       "      <td>80.328114</td>\n",
       "      <td>27-03-2022</td>\n",
       "      <td>18:25:00</td>\n",
       "      <td>...</td>\n",
       "      <td>conditions Sunny</td>\n",
       "      <td>Medium</td>\n",
       "      <td>2</td>\n",
       "      <td>Drinks</td>\n",
       "      <td>scooter</td>\n",
       "      <td>1</td>\n",
       "      <td>No</td>\n",
       "      <td>Metropolitian</td>\n",
       "      <td>test</td>\n",
       "      <td>NaN</td>\n",
       "    </tr>\n",
       "  </tbody>\n",
       "</table>\n",
       "<p>5 rows × 21 columns</p>\n",
       "</div>"
      ],
      "text/plain": [
       "        ID Delivery_person_ID Delivery_person_Age Delivery_person_Ratings  \\\n",
       "0  0x2318    COIMBRES13DEL01                  NaN                     NaN   \n",
       "1  0x3474     BANGRES15DEL01                   28                     4.6   \n",
       "2  0x9420      JAPRES09DEL03                   23                     4.5   \n",
       "3  0x72ee      JAPRES07DEL03                   21                     4.8   \n",
       "4  0xa759     CHENRES19DEL01                   31                     4.6   \n",
       "\n",
       "   Restaurant_latitude  Restaurant_longitude  Delivery_location_latitude  \\\n",
       "0            11.003669             76.976494                   11.043669   \n",
       "1            12.975377             77.696664                   13.085377   \n",
       "2            26.911378             75.789034                   27.001378   \n",
       "3            26.766536             75.837333                   26.856536   \n",
       "4            12.986047             80.218114                   13.096047   \n",
       "\n",
       "   Delivery_location_longitude  Order_Date Time_Orderd  ...  \\\n",
       "0                    77.016494  30-03-2022         NaN  ...   \n",
       "1                    77.806664  29-03-2022    20:30:00  ...   \n",
       "2                    75.879034  10-03-2022    19:35:00  ...   \n",
       "3                    75.927333  02-04-2022    17:15:00  ...   \n",
       "4                    80.328114  27-03-2022    18:25:00  ...   \n",
       "\n",
       "   Weatherconditions Road_traffic_density Vehicle_condition  Type_of_order  \\\n",
       "0                NaN                  NaN                 3        Drinks    \n",
       "1   conditions Windy                 Jam                  0         Snack    \n",
       "2  conditions Stormy                 Jam                  0        Drinks    \n",
       "3     conditions Fog              Medium                  1          Meal    \n",
       "4   conditions Sunny              Medium                  2        Drinks    \n",
       "\n",
       "     Type_of_vehicle multiple_deliveries Festival            City indic  \\\n",
       "0  electric_scooter                    1      No   Metropolitian   test   \n",
       "1        motorcycle                    1      No   Metropolitian   test   \n",
       "2        motorcycle                    1      No   Metropolitian   test   \n",
       "3           scooter                    1      No   Metropolitian   test   \n",
       "4           scooter                    1      No   Metropolitian   test   \n",
       "\n",
       "  Time_taken(min)  \n",
       "0             NaN  \n",
       "1             NaN  \n",
       "2             NaN  \n",
       "3             NaN  \n",
       "4             NaN  \n",
       "\n",
       "[5 rows x 21 columns]"
      ]
     },
     "execution_count": 17,
     "metadata": {},
     "output_type": "execute_result"
    }
   ],
   "source": [
    "df.head()"
   ]
  },
  {
   "cell_type": "code",
   "execution_count": 18,
   "id": "37014748",
   "metadata": {},
   "outputs": [
    {
     "data": {
      "text/plain": [
       "(56992, 21)"
      ]
     },
     "execution_count": 18,
     "metadata": {},
     "output_type": "execute_result"
    }
   ],
   "source": [
    "df.shape"
   ]
  },
  {
   "cell_type": "code",
   "execution_count": 19,
   "id": "04f6cdf9",
   "metadata": {},
   "outputs": [
    {
     "name": "stdout",
     "output_type": "stream",
     "text": [
      "<class 'pandas.core.frame.DataFrame'>\n",
      "Int64Index: 56992 entries, 0 to 45592\n",
      "Data columns (total 21 columns):\n",
      " #   Column                       Non-Null Count  Dtype  \n",
      "---  ------                       --------------  -----  \n",
      " 0   ID                           56992 non-null  object \n",
      " 1   Delivery_person_ID           56992 non-null  object \n",
      " 2   Delivery_person_Age          54647 non-null  object \n",
      " 3   Delivery_person_Ratings      54577 non-null  object \n",
      " 4   Restaurant_latitude          56992 non-null  float64\n",
      " 5   Restaurant_longitude         56992 non-null  float64\n",
      " 6   Delivery_location_latitude   56992 non-null  float64\n",
      " 7   Delivery_location_longitude  56992 non-null  float64\n",
      " 8   Order_Date                   56992 non-null  object \n",
      " 9   Time_Orderd                  54817 non-null  object \n",
      " 10  Time_Order_picked            56992 non-null  object \n",
      " 11  Weatherconditions            56218 non-null  object \n",
      " 12  Road_traffic_density         56237 non-null  object \n",
      " 13  Vehicle_condition            56992 non-null  int64  \n",
      " 14  Type_of_order                56992 non-null  object \n",
      " 15  Type_of_vehicle              56992 non-null  object \n",
      " 16  multiple_deliveries          55761 non-null  object \n",
      " 17  Festival                     56699 non-null  object \n",
      " 18  City                         55468 non-null  object \n",
      " 19  indic                        56992 non-null  object \n",
      " 20  Time_taken(min)              45593 non-null  object \n",
      "dtypes: float64(4), int64(1), object(16)\n",
      "memory usage: 9.6+ MB\n"
     ]
    }
   ],
   "source": [
    "df.info()"
   ]
  },
  {
   "cell_type": "markdown",
   "id": "58a6ea8b",
   "metadata": {},
   "source": [
    "removing string the part from weatherconditions and min"
   ]
  },
  {
   "cell_type": "code",
   "execution_count": 20,
   "id": "45351e79",
   "metadata": {},
   "outputs": [],
   "source": [
    "df['Weatherconditions'] = df['Weatherconditions'].str.split(\" \", expand = True )[1]\n",
    "df['Time_taken(min)'] = df['Time_taken(min)'].str.split(\" \", expand = True)[1]"
   ]
  },
  {
   "cell_type": "markdown",
   "id": "797787cd",
   "metadata": {},
   "source": [
    "changing some columns datatypes into float"
   ]
  },
  {
   "cell_type": "code",
   "execution_count": 21,
   "id": "c25d3399",
   "metadata": {},
   "outputs": [],
   "source": [
    "num_cols =['Delivery_person_Age', 'Delivery_person_Ratings', 'Vehicle_condition', 'Time_taken(min)']\n",
    "\n",
    "for col in num_cols:\n",
    "    df[col] = df[col].astype('float64')"
   ]
  },
  {
   "cell_type": "code",
   "execution_count": 22,
   "id": "cbe4d99a",
   "metadata": {},
   "outputs": [
    {
     "name": "stdout",
     "output_type": "stream",
     "text": [
      "<class 'pandas.core.frame.DataFrame'>\n",
      "Int64Index: 56992 entries, 0 to 45592\n",
      "Data columns (total 21 columns):\n",
      " #   Column                       Non-Null Count  Dtype         \n",
      "---  ------                       --------------  -----         \n",
      " 0   ID                           56992 non-null  object        \n",
      " 1   Delivery_person_ID           56992 non-null  object        \n",
      " 2   Delivery_person_Age          54647 non-null  float64       \n",
      " 3   Delivery_person_Ratings      54577 non-null  float64       \n",
      " 4   Restaurant_latitude          56992 non-null  float64       \n",
      " 5   Restaurant_longitude         56992 non-null  float64       \n",
      " 6   Delivery_location_latitude   56992 non-null  float64       \n",
      " 7   Delivery_location_longitude  56992 non-null  float64       \n",
      " 8   Order_Date                   56992 non-null  datetime64[ns]\n",
      " 9   Time_Orderd                  54817 non-null  object        \n",
      " 10  Time_Order_picked            56992 non-null  object        \n",
      " 11  Weatherconditions            56218 non-null  object        \n",
      " 12  Road_traffic_density         56237 non-null  object        \n",
      " 13  Vehicle_condition            56992 non-null  float64       \n",
      " 14  Type_of_order                56992 non-null  object        \n",
      " 15  Type_of_vehicle              56992 non-null  object        \n",
      " 16  multiple_deliveries          55761 non-null  object        \n",
      " 17  Festival                     56699 non-null  object        \n",
      " 18  City                         55468 non-null  object        \n",
      " 19  indic                        56992 non-null  object        \n",
      " 20  Time_taken(min)              45593 non-null  float64       \n",
      "dtypes: datetime64[ns](1), float64(8), object(12)\n",
      "memory usage: 9.6+ MB\n"
     ]
    }
   ],
   "source": [
    "df['Order_Date'] = pd.to_datetime(df['Order_Date'], format=\"%d-%m-%Y\")\n",
    "df.info()"
   ]
  },
  {
   "cell_type": "markdown",
   "id": "a0465c65",
   "metadata": {},
   "source": [
    "finding the distance in km using geodesic"
   ]
  },
  {
   "cell_type": "code",
   "execution_count": 23,
   "id": "57cfe037",
   "metadata": {},
   "outputs": [],
   "source": [
    "cols = ['Restaurant_latitude', 'Restaurant_longitude', 'Delivery_location_latitude', 'Delivery_location_longitude']\n",
    "for col in cols:\n",
    "    df[col] = abs(df[col])"
   ]
  },
  {
   "cell_type": "markdown",
   "id": "e6aaa09a",
   "metadata": {},
   "source": [
    "this code of block can take time "
   ]
  },
  {
   "cell_type": "code",
   "execution_count": 24,
   "id": "8b01798f",
   "metadata": {},
   "outputs": [
    {
     "name": "stderr",
     "output_type": "stream",
     "text": [
      "C:\\Users\\VIKAS\\AppData\\Local\\Temp\\ipykernel_7928\\2644955811.py:10: SettingWithCopyWarning: \n",
      "A value is trying to be set on a copy of a slice from a DataFrame\n",
      "\n",
      "See the caveats in the documentation: https://pandas.pydata.org/pandas-docs/stable/user_guide/indexing.html#returning-a-view-versus-a-copy\n",
      "  df['distance'].loc[i] = geodesic(restaurant_cordinates_df[i], delivery_cordinates_df[i])\n"
     ]
    }
   ],
   "source": [
    "from geopy.distance import geodesic\n",
    "import gc\n",
    "\n",
    "df['distance'] = np.zeros(len(df))\n",
    "\n",
    "restaurant_cordinates_df = df [['Restaurant_latitude', 'Restaurant_longitude']].to_numpy()\n",
    "delivery_cordinates_df = df[['Delivery_location_latitude', 'Delivery_location_longitude']].to_numpy()\n",
    "\n",
    "for i in range(len(df)):\n",
    "    df['distance'].loc[i] = geodesic(restaurant_cordinates_df[i], delivery_cordinates_df[i])"
   ]
  },
  {
   "cell_type": "markdown",
   "id": "9a5fc8f7",
   "metadata": {},
   "source": [
    "converting geodesic to float"
   ]
  },
  {
   "cell_type": "code",
   "execution_count": 25,
   "id": "175866a1",
   "metadata": {},
   "outputs": [],
   "source": [
    "df['distance'] = df['distance'].astype('str').str.extract('(\\d+)')\n",
    "df['distance']= df['distance'].astype('float64')"
   ]
  },
  {
   "cell_type": "code",
   "execution_count": 26,
   "id": "cec2cf48",
   "metadata": {},
   "outputs": [
    {
     "data": {
      "text/plain": [
       "count    56992.000000\n",
       "mean         9.244403\n",
       "std          5.563173\n",
       "min          1.000000\n",
       "25%          4.000000\n",
       "50%          9.000000\n",
       "75%         13.000000\n",
       "max         20.000000\n",
       "Name: distance, dtype: float64"
      ]
     },
     "execution_count": 26,
     "metadata": {},
     "output_type": "execute_result"
    }
   ],
   "source": [
    "df['distance'].describe()"
   ]
  },
  {
   "cell_type": "markdown",
   "id": "ce8e9a4b",
   "metadata": {},
   "source": [
    "finding the order preparation time in minutes"
   ]
  },
  {
   "cell_type": "code",
   "execution_count": 27,
   "id": "7c0f915c",
   "metadata": {},
   "outputs": [],
   "source": [
    "df['Time_Orderd'] = pd.to_timedelta(df['Time_Orderd'])\n",
    "df['Time_Order_picked'] = pd.to_timedelta(df['Time_Order_picked'])\n",
    "\n",
    "df['time_order_picked_formatted'] = np.where(df['Time_Order_picked'] < df['Time_Orderd'], df['Order_Date']+pd.DateOffset(1) +\n",
    "                                           df['Time_Order_picked'], df['Order_Date']+df['Time_Order_picked'])\n",
    "df['time_order_formatted'] = df['Order_Date'] + df['Time_Orderd']\n",
    "df['order_time_preparation'] = ((df['time_order_picked_formatted'] - df['time_order_formatted']).dt.total_seconds())/60"
   ]
  },
  {
   "cell_type": "code",
   "execution_count": 28,
   "id": "63a0343e",
   "metadata": {},
   "outputs": [
    {
     "data": {
      "text/html": [
       "<div>\n",
       "<style scoped>\n",
       "    .dataframe tbody tr th:only-of-type {\n",
       "        vertical-align: middle;\n",
       "    }\n",
       "\n",
       "    .dataframe tbody tr th {\n",
       "        vertical-align: top;\n",
       "    }\n",
       "\n",
       "    .dataframe thead th {\n",
       "        text-align: right;\n",
       "    }\n",
       "</style>\n",
       "<table border=\"1\" class=\"dataframe\">\n",
       "  <thead>\n",
       "    <tr style=\"text-align: right;\">\n",
       "      <th></th>\n",
       "      <th>ID</th>\n",
       "      <th>Delivery_person_ID</th>\n",
       "      <th>Delivery_person_Age</th>\n",
       "      <th>Delivery_person_Ratings</th>\n",
       "      <th>Restaurant_latitude</th>\n",
       "      <th>Restaurant_longitude</th>\n",
       "      <th>Delivery_location_latitude</th>\n",
       "      <th>Delivery_location_longitude</th>\n",
       "      <th>Order_Date</th>\n",
       "      <th>Time_Orderd</th>\n",
       "      <th>...</th>\n",
       "      <th>Type_of_vehicle</th>\n",
       "      <th>multiple_deliveries</th>\n",
       "      <th>Festival</th>\n",
       "      <th>City</th>\n",
       "      <th>indic</th>\n",
       "      <th>Time_taken(min)</th>\n",
       "      <th>distance</th>\n",
       "      <th>time_order_picked_formatted</th>\n",
       "      <th>time_order_formatted</th>\n",
       "      <th>order_time_preparation</th>\n",
       "    </tr>\n",
       "  </thead>\n",
       "  <tbody>\n",
       "    <tr>\n",
       "      <th>0</th>\n",
       "      <td>0x2318</td>\n",
       "      <td>COIMBRES13DEL01</td>\n",
       "      <td>NaN</td>\n",
       "      <td>NaN</td>\n",
       "      <td>11.003669</td>\n",
       "      <td>76.976494</td>\n",
       "      <td>11.043669</td>\n",
       "      <td>77.016494</td>\n",
       "      <td>2022-03-30</td>\n",
       "      <td>NaT</td>\n",
       "      <td>...</td>\n",
       "      <td>electric_scooter</td>\n",
       "      <td>1</td>\n",
       "      <td>No</td>\n",
       "      <td>Metropolitian</td>\n",
       "      <td>test</td>\n",
       "      <td>NaN</td>\n",
       "      <td>6.0</td>\n",
       "      <td>2022-03-30 15:05:00</td>\n",
       "      <td>NaT</td>\n",
       "      <td>NaN</td>\n",
       "    </tr>\n",
       "    <tr>\n",
       "      <th>1</th>\n",
       "      <td>0x3474</td>\n",
       "      <td>BANGRES15DEL01</td>\n",
       "      <td>28.0</td>\n",
       "      <td>4.6</td>\n",
       "      <td>12.975377</td>\n",
       "      <td>77.696664</td>\n",
       "      <td>13.085377</td>\n",
       "      <td>77.806664</td>\n",
       "      <td>2022-03-29</td>\n",
       "      <td>0 days 20:30:00</td>\n",
       "      <td>...</td>\n",
       "      <td>motorcycle</td>\n",
       "      <td>1</td>\n",
       "      <td>No</td>\n",
       "      <td>Metropolitian</td>\n",
       "      <td>test</td>\n",
       "      <td>NaN</td>\n",
       "      <td>17.0</td>\n",
       "      <td>2022-03-29 20:35:00</td>\n",
       "      <td>2022-03-29 20:30:00</td>\n",
       "      <td>5.0</td>\n",
       "    </tr>\n",
       "    <tr>\n",
       "      <th>2</th>\n",
       "      <td>0x9420</td>\n",
       "      <td>JAPRES09DEL03</td>\n",
       "      <td>23.0</td>\n",
       "      <td>4.5</td>\n",
       "      <td>26.911378</td>\n",
       "      <td>75.789034</td>\n",
       "      <td>27.001378</td>\n",
       "      <td>75.879034</td>\n",
       "      <td>2022-03-10</td>\n",
       "      <td>0 days 19:35:00</td>\n",
       "      <td>...</td>\n",
       "      <td>motorcycle</td>\n",
       "      <td>1</td>\n",
       "      <td>No</td>\n",
       "      <td>Metropolitian</td>\n",
       "      <td>test</td>\n",
       "      <td>NaN</td>\n",
       "      <td>13.0</td>\n",
       "      <td>2022-03-10 19:45:00</td>\n",
       "      <td>2022-03-10 19:35:00</td>\n",
       "      <td>10.0</td>\n",
       "    </tr>\n",
       "    <tr>\n",
       "      <th>3</th>\n",
       "      <td>0x72ee</td>\n",
       "      <td>JAPRES07DEL03</td>\n",
       "      <td>21.0</td>\n",
       "      <td>4.8</td>\n",
       "      <td>26.766536</td>\n",
       "      <td>75.837333</td>\n",
       "      <td>26.856536</td>\n",
       "      <td>75.927333</td>\n",
       "      <td>2022-04-02</td>\n",
       "      <td>0 days 17:15:00</td>\n",
       "      <td>...</td>\n",
       "      <td>scooter</td>\n",
       "      <td>1</td>\n",
       "      <td>No</td>\n",
       "      <td>Metropolitian</td>\n",
       "      <td>test</td>\n",
       "      <td>NaN</td>\n",
       "      <td>13.0</td>\n",
       "      <td>2022-04-02 17:20:00</td>\n",
       "      <td>2022-04-02 17:15:00</td>\n",
       "      <td>5.0</td>\n",
       "    </tr>\n",
       "    <tr>\n",
       "      <th>4</th>\n",
       "      <td>0xa759</td>\n",
       "      <td>CHENRES19DEL01</td>\n",
       "      <td>31.0</td>\n",
       "      <td>4.6</td>\n",
       "      <td>12.986047</td>\n",
       "      <td>80.218114</td>\n",
       "      <td>13.096047</td>\n",
       "      <td>80.328114</td>\n",
       "      <td>2022-03-27</td>\n",
       "      <td>0 days 18:25:00</td>\n",
       "      <td>...</td>\n",
       "      <td>scooter</td>\n",
       "      <td>1</td>\n",
       "      <td>No</td>\n",
       "      <td>Metropolitian</td>\n",
       "      <td>test</td>\n",
       "      <td>NaN</td>\n",
       "      <td>17.0</td>\n",
       "      <td>2022-03-27 18:40:00</td>\n",
       "      <td>2022-03-27 18:25:00</td>\n",
       "      <td>15.0</td>\n",
       "    </tr>\n",
       "  </tbody>\n",
       "</table>\n",
       "<p>5 rows × 25 columns</p>\n",
       "</div>"
      ],
      "text/plain": [
       "        ID Delivery_person_ID  Delivery_person_Age  Delivery_person_Ratings  \\\n",
       "0  0x2318    COIMBRES13DEL01                   NaN                      NaN   \n",
       "1  0x3474     BANGRES15DEL01                  28.0                      4.6   \n",
       "2  0x9420      JAPRES09DEL03                  23.0                      4.5   \n",
       "3  0x72ee      JAPRES07DEL03                  21.0                      4.8   \n",
       "4  0xa759     CHENRES19DEL01                  31.0                      4.6   \n",
       "\n",
       "   Restaurant_latitude  Restaurant_longitude  Delivery_location_latitude  \\\n",
       "0            11.003669             76.976494                   11.043669   \n",
       "1            12.975377             77.696664                   13.085377   \n",
       "2            26.911378             75.789034                   27.001378   \n",
       "3            26.766536             75.837333                   26.856536   \n",
       "4            12.986047             80.218114                   13.096047   \n",
       "\n",
       "   Delivery_location_longitude Order_Date     Time_Orderd  ...  \\\n",
       "0                    77.016494 2022-03-30             NaT  ...   \n",
       "1                    77.806664 2022-03-29 0 days 20:30:00  ...   \n",
       "2                    75.879034 2022-03-10 0 days 19:35:00  ...   \n",
       "3                    75.927333 2022-04-02 0 days 17:15:00  ...   \n",
       "4                    80.328114 2022-03-27 0 days 18:25:00  ...   \n",
       "\n",
       "     Type_of_vehicle multiple_deliveries Festival            City indic  \\\n",
       "0  electric_scooter                    1      No   Metropolitian   test   \n",
       "1        motorcycle                    1      No   Metropolitian   test   \n",
       "2        motorcycle                    1      No   Metropolitian   test   \n",
       "3           scooter                    1      No   Metropolitian   test   \n",
       "4           scooter                    1      No   Metropolitian   test   \n",
       "\n",
       "  Time_taken(min) distance time_order_picked_formatted time_order_formatted  \\\n",
       "0             NaN      6.0         2022-03-30 15:05:00                  NaT   \n",
       "1             NaN     17.0         2022-03-29 20:35:00  2022-03-29 20:30:00   \n",
       "2             NaN     13.0         2022-03-10 19:45:00  2022-03-10 19:35:00   \n",
       "3             NaN     13.0         2022-04-02 17:20:00  2022-04-02 17:15:00   \n",
       "4             NaN     17.0         2022-03-27 18:40:00  2022-03-27 18:25:00   \n",
       "\n",
       "  order_time_preparation  \n",
       "0                    NaN  \n",
       "1                    5.0  \n",
       "2                   10.0  \n",
       "3                    5.0  \n",
       "4                   15.0  \n",
       "\n",
       "[5 rows x 25 columns]"
      ]
     },
     "execution_count": 28,
     "metadata": {},
     "output_type": "execute_result"
    }
   ],
   "source": [
    "df.head()"
   ]
  },
  {
   "cell_type": "markdown",
   "id": "88aa069d",
   "metadata": {},
   "source": [
    "filling missing values"
   ]
  },
  {
   "cell_type": "code",
   "execution_count": 29,
   "id": "df61746f",
   "metadata": {
    "scrolled": false
   },
   "outputs": [
    {
     "name": "stdout",
     "output_type": "stream",
     "text": [
      "<class 'pandas.core.frame.DataFrame'>\n",
      "Int64Index: 56992 entries, 0 to 45592\n",
      "Data columns (total 25 columns):\n",
      " #   Column                       Non-Null Count  Dtype          \n",
      "---  ------                       --------------  -----          \n",
      " 0   ID                           56992 non-null  object         \n",
      " 1   Delivery_person_ID           56992 non-null  object         \n",
      " 2   Delivery_person_Age          54647 non-null  float64        \n",
      " 3   Delivery_person_Ratings      54577 non-null  float64        \n",
      " 4   Restaurant_latitude          56992 non-null  float64        \n",
      " 5   Restaurant_longitude         56992 non-null  float64        \n",
      " 6   Delivery_location_latitude   56992 non-null  float64        \n",
      " 7   Delivery_location_longitude  56992 non-null  float64        \n",
      " 8   Order_Date                   56992 non-null  datetime64[ns] \n",
      " 9   Time_Orderd                  54817 non-null  timedelta64[ns]\n",
      " 10  Time_Order_picked            56992 non-null  timedelta64[ns]\n",
      " 11  Weatherconditions            56218 non-null  object         \n",
      " 12  Road_traffic_density         56237 non-null  object         \n",
      " 13  Vehicle_condition            56992 non-null  float64        \n",
      " 14  Type_of_order                56992 non-null  object         \n",
      " 15  Type_of_vehicle              56992 non-null  object         \n",
      " 16  multiple_deliveries          55761 non-null  object         \n",
      " 17  Festival                     56699 non-null  object         \n",
      " 18  City                         55468 non-null  object         \n",
      " 19  indic                        56992 non-null  object         \n",
      " 20  Time_taken(min)              45593 non-null  float64        \n",
      " 21  distance                     56992 non-null  float64        \n",
      " 22  time_order_picked_formatted  56992 non-null  datetime64[ns] \n",
      " 23  time_order_formatted         54817 non-null  datetime64[ns] \n",
      " 24  order_time_preparation       54817 non-null  float64        \n",
      "dtypes: datetime64[ns](3), float64(10), object(10), timedelta64[ns](2)\n",
      "memory usage: 13.3+ MB\n"
     ]
    }
   ],
   "source": [
    "df.info()"
   ]
  },
  {
   "cell_type": "code",
   "execution_count": 30,
   "id": "271c7ff7",
   "metadata": {},
   "outputs": [],
   "source": [
    "from sklearn.compose import ColumnTransformer\n",
    "from sklearn.impute import SimpleImputer"
   ]
  },
  {
   "cell_type": "code",
   "execution_count": 31,
   "id": "f1ca220f",
   "metadata": {},
   "outputs": [],
   "source": [
    "cat_attribs = ['Weatherconditions' ,'Road_traffic_density', 'Type_of_order', 'Type_of_vehicle', 'Festival', 'City', 'indic']\n",
    "num_attribs = ['Delivery_person_Age', 'Delivery_person_Ratings', 'Vehicle_condition', 'distance', 'Time_taken(min)',\n",
    "                'order_time_preparation', 'multiple_deliveries']"
   ]
  },
  {
   "cell_type": "code",
   "execution_count": 32,
   "id": "47267352",
   "metadata": {},
   "outputs": [],
   "source": [
    "num_tranformer = SimpleImputer(strategy ='median')\n",
    "cat_tranformer = SimpleImputer(strategy='most_frequent')\n",
    "\n",
    "preprocessor = ColumnTransformer(transformers = [\n",
    "    ('num', num_tranformer, num_attribs) ,\n",
    "    ('cat', cat_tranformer, cat_attribs)\n",
    "])\n",
    "\n",
    "df_cleant = pd.DataFrame(preprocessor.fit_transform(df), columns=['Delivery_person_Age', 'Delivery_person_Ratings',\n",
    "                                                                  'Vehicle_condition','distance',\n",
    "                                                                  'Time_taken(min)','order_time_preparation',\n",
    "                                                                  'multiple_deliveries','Weatherconditions',\n",
    "                                                                  'Road_traffic_density','Type_of_order',\n",
    "                                                                  'Type_of_vehicle','Festival','City','indic'\n",
    "                                                                 ])"
   ]
  },
  {
   "cell_type": "code",
   "execution_count": 33,
   "id": "403169d0",
   "metadata": {},
   "outputs": [
    {
     "data": {
      "text/plain": [
       "Delivery_person_Age        0\n",
       "Delivery_person_Ratings    0\n",
       "Vehicle_condition          0\n",
       "distance                   0\n",
       "Time_taken(min)            0\n",
       "order_time_preparation     0\n",
       "multiple_deliveries        0\n",
       "Weatherconditions          0\n",
       "Road_traffic_density       0\n",
       "Type_of_order              0\n",
       "Type_of_vehicle            0\n",
       "Festival                   0\n",
       "City                       0\n",
       "indic                      0\n",
       "dtype: int64"
      ]
     },
     "execution_count": 33,
     "metadata": {},
     "output_type": "execute_result"
    }
   ],
   "source": [
    "df_cleant.isnull().sum()"
   ]
  },
  {
   "cell_type": "code",
   "execution_count": 34,
   "id": "6315988c",
   "metadata": {},
   "outputs": [
    {
     "data": {
      "text/plain": [
       "Fog           10196\n",
       "Stormy         9397\n",
       "Cloudy         9397\n",
       "Sandstorms     9373\n",
       "Windy          9370\n",
       "Sunny          9259\n",
       "Name: Weatherconditions, dtype: int64"
      ]
     },
     "execution_count": 34,
     "metadata": {},
     "output_type": "execute_result"
    }
   ],
   "source": [
    "df_cleant['Weatherconditions'].value_counts()"
   ]
  },
  {
   "cell_type": "code",
   "execution_count": 35,
   "id": "cdfaaffc",
   "metadata": {},
   "outputs": [
    {
     "data": {
      "text/plain": [
       "motorcycle           33044\n",
       "scooter              19093\n",
       "electric_scooter      4764\n",
       "bicycle                 91\n",
       "Name: Type_of_vehicle, dtype: int64"
      ]
     },
     "execution_count": 35,
     "metadata": {},
     "output_type": "execute_result"
    }
   ],
   "source": [
    "df_cleant['Type_of_vehicle'].value_counts()"
   ]
  },
  {
   "cell_type": "code",
   "execution_count": 36,
   "id": "4a840105",
   "metadata": {},
   "outputs": [
    {
     "data": {
      "text/plain": [
       "Snack      14348\n",
       "Meal       14252\n",
       "Drinks     14242\n",
       "Buffet     14150\n",
       "Name: Type_of_order, dtype: int64"
      ]
     },
     "execution_count": 36,
     "metadata": {},
     "output_type": "execute_result"
    }
   ],
   "source": [
    "df_cleant['Type_of_order'].value_counts()"
   ]
  },
  {
   "cell_type": "code",
   "execution_count": 37,
   "id": "781c90e5",
   "metadata": {},
   "outputs": [
    {
     "data": {
      "text/plain": [
       "Low        20113\n",
       "Jam        17646\n",
       "Medium     13698\n",
       "High        5535\n",
       "Name: Road_traffic_density, dtype: int64"
      ]
     },
     "execution_count": 37,
     "metadata": {},
     "output_type": "execute_result"
    }
   ],
   "source": [
    "df_cleant['Road_traffic_density'].value_counts()"
   ]
  },
  {
   "cell_type": "code",
   "execution_count": 38,
   "id": "1c6e6ee3",
   "metadata": {},
   "outputs": [
    {
     "name": "stdout",
     "output_type": "stream",
     "text": [
      "<class 'pandas.core.frame.DataFrame'>\n",
      "RangeIndex: 56992 entries, 0 to 56991\n",
      "Data columns (total 14 columns):\n",
      " #   Column                   Non-Null Count  Dtype  \n",
      "---  ------                   --------------  -----  \n",
      " 0   Delivery_person_Age      56992 non-null  float64\n",
      " 1   Delivery_person_Ratings  56992 non-null  float64\n",
      " 2   Vehicle_condition        56992 non-null  float64\n",
      " 3   distance                 56992 non-null  float64\n",
      " 4   Time_taken(min)          56992 non-null  float64\n",
      " 5   order_time_preparation   56992 non-null  float64\n",
      " 6   multiple_deliveries      56992 non-null  float64\n",
      " 7   Weatherconditions        56992 non-null  object \n",
      " 8   Road_traffic_density     56992 non-null  object \n",
      " 9   Type_of_order            56992 non-null  object \n",
      " 10  Type_of_vehicle          56992 non-null  object \n",
      " 11  Festival                 56992 non-null  object \n",
      " 12  City                     56992 non-null  object \n",
      " 13  indic                    56992 non-null  object \n",
      "dtypes: float64(7), object(7)\n",
      "memory usage: 6.1+ MB\n"
     ]
    }
   ],
   "source": [
    "for col in num_attribs:\n",
    "    df_cleant[col] = df_cleant[col].astype('float64')\n",
    "df_cleant.info()"
   ]
  },
  {
   "cell_type": "code",
   "execution_count": 39,
   "id": "9e991bd5",
   "metadata": {},
   "outputs": [],
   "source": [
    "df_cleant.loc[(df_cleant.indic == 'test'), 'Time_taken(min)'] = np.nan"
   ]
  },
  {
   "cell_type": "code",
   "execution_count": 40,
   "id": "53b33f5b",
   "metadata": {},
   "outputs": [
    {
     "data": {
      "text/plain": [
       "Delivery_person_Age            0\n",
       "Delivery_person_Ratings        0\n",
       "Vehicle_condition              0\n",
       "distance                       0\n",
       "Time_taken(min)            11399\n",
       "order_time_preparation         0\n",
       "multiple_deliveries            0\n",
       "Weatherconditions              0\n",
       "Road_traffic_density           0\n",
       "Type_of_order                  0\n",
       "Type_of_vehicle                0\n",
       "Festival                       0\n",
       "City                           0\n",
       "indic                          0\n",
       "dtype: int64"
      ]
     },
     "execution_count": 40,
     "metadata": {},
     "output_type": "execute_result"
    }
   ],
   "source": [
    "df_cleant.isnull().sum()"
   ]
  },
  {
   "cell_type": "markdown",
   "id": "e048ec28",
   "metadata": {},
   "source": [
    "Data Exploration"
   ]
  },
  {
   "cell_type": "code",
   "execution_count": 41,
   "id": "2d6b147b",
   "metadata": {
    "scrolled": true
   },
   "outputs": [
    {
     "data": {
      "text/html": [
       "<div>\n",
       "<style scoped>\n",
       "    .dataframe tbody tr th:only-of-type {\n",
       "        vertical-align: middle;\n",
       "    }\n",
       "\n",
       "    .dataframe tbody tr th {\n",
       "        vertical-align: top;\n",
       "    }\n",
       "\n",
       "    .dataframe thead th {\n",
       "        text-align: right;\n",
       "    }\n",
       "</style>\n",
       "<table border=\"1\" class=\"dataframe\">\n",
       "  <thead>\n",
       "    <tr style=\"text-align: right;\">\n",
       "      <th></th>\n",
       "      <th>Delivery_person_Age</th>\n",
       "      <th>Delivery_person_Ratings</th>\n",
       "      <th>Vehicle_condition</th>\n",
       "      <th>distance</th>\n",
       "      <th>Time_taken(min)</th>\n",
       "      <th>order_time_preparation</th>\n",
       "      <th>multiple_deliveries</th>\n",
       "    </tr>\n",
       "  </thead>\n",
       "  <tbody>\n",
       "    <tr>\n",
       "      <th>count</th>\n",
       "      <td>56992.000000</td>\n",
       "      <td>56992.000000</td>\n",
       "      <td>56992.000000</td>\n",
       "      <td>56992.000000</td>\n",
       "      <td>45593.000000</td>\n",
       "      <td>56992.000000</td>\n",
       "      <td>56992.000000</td>\n",
       "    </tr>\n",
       "    <tr>\n",
       "      <th>mean</th>\n",
       "      <td>29.575397</td>\n",
       "      <td>4.636396</td>\n",
       "      <td>1.024968</td>\n",
       "      <td>9.244403</td>\n",
       "      <td>26.294607</td>\n",
       "      <td>-16.101821</td>\n",
       "      <td>0.751158</td>\n",
       "    </tr>\n",
       "    <tr>\n",
       "      <th>std</th>\n",
       "      <td>5.691393</td>\n",
       "      <td>0.329666</td>\n",
       "      <td>0.839171</td>\n",
       "      <td>5.563173</td>\n",
       "      <td>9.383806</td>\n",
       "      <td>191.910592</td>\n",
       "      <td>0.567695</td>\n",
       "    </tr>\n",
       "    <tr>\n",
       "      <th>min</th>\n",
       "      <td>15.000000</td>\n",
       "      <td>1.000000</td>\n",
       "      <td>0.000000</td>\n",
       "      <td>1.000000</td>\n",
       "      <td>10.000000</td>\n",
       "      <td>-1435.000000</td>\n",
       "      <td>0.000000</td>\n",
       "    </tr>\n",
       "    <tr>\n",
       "      <th>25%</th>\n",
       "      <td>25.000000</td>\n",
       "      <td>4.600000</td>\n",
       "      <td>0.000000</td>\n",
       "      <td>4.000000</td>\n",
       "      <td>19.000000</td>\n",
       "      <td>5.000000</td>\n",
       "      <td>0.000000</td>\n",
       "    </tr>\n",
       "    <tr>\n",
       "      <th>50%</th>\n",
       "      <td>30.000000</td>\n",
       "      <td>4.700000</td>\n",
       "      <td>1.000000</td>\n",
       "      <td>9.000000</td>\n",
       "      <td>26.000000</td>\n",
       "      <td>10.000000</td>\n",
       "      <td>1.000000</td>\n",
       "    </tr>\n",
       "    <tr>\n",
       "      <th>75%</th>\n",
       "      <td>34.000000</td>\n",
       "      <td>4.800000</td>\n",
       "      <td>2.000000</td>\n",
       "      <td>13.000000</td>\n",
       "      <td>32.000000</td>\n",
       "      <td>15.000000</td>\n",
       "      <td>1.000000</td>\n",
       "    </tr>\n",
       "    <tr>\n",
       "      <th>max</th>\n",
       "      <td>50.000000</td>\n",
       "      <td>6.000000</td>\n",
       "      <td>3.000000</td>\n",
       "      <td>20.000000</td>\n",
       "      <td>54.000000</td>\n",
       "      <td>15.000000</td>\n",
       "      <td>3.000000</td>\n",
       "    </tr>\n",
       "  </tbody>\n",
       "</table>\n",
       "</div>"
      ],
      "text/plain": [
       "       Delivery_person_Age  Delivery_person_Ratings  Vehicle_condition  \\\n",
       "count         56992.000000             56992.000000       56992.000000   \n",
       "mean             29.575397                 4.636396           1.024968   \n",
       "std               5.691393                 0.329666           0.839171   \n",
       "min              15.000000                 1.000000           0.000000   \n",
       "25%              25.000000                 4.600000           0.000000   \n",
       "50%              30.000000                 4.700000           1.000000   \n",
       "75%              34.000000                 4.800000           2.000000   \n",
       "max              50.000000                 6.000000           3.000000   \n",
       "\n",
       "           distance  Time_taken(min)  order_time_preparation  \\\n",
       "count  56992.000000     45593.000000            56992.000000   \n",
       "mean       9.244403        26.294607              -16.101821   \n",
       "std        5.563173         9.383806              191.910592   \n",
       "min        1.000000        10.000000            -1435.000000   \n",
       "25%        4.000000        19.000000                5.000000   \n",
       "50%        9.000000        26.000000               10.000000   \n",
       "75%       13.000000        32.000000               15.000000   \n",
       "max       20.000000        54.000000               15.000000   \n",
       "\n",
       "       multiple_deliveries  \n",
       "count         56992.000000  \n",
       "mean              0.751158  \n",
       "std               0.567695  \n",
       "min               0.000000  \n",
       "25%               0.000000  \n",
       "50%               1.000000  \n",
       "75%               1.000000  \n",
       "max               3.000000  "
      ]
     },
     "execution_count": 41,
     "metadata": {},
     "output_type": "execute_result"
    }
   ],
   "source": [
    "df_cleant.describe()"
   ]
  },
  {
   "cell_type": "code",
   "execution_count": 42,
   "id": "b8e61054",
   "metadata": {},
   "outputs": [],
   "source": [
    "%matplotlib inline"
   ]
  },
  {
   "cell_type": "code",
   "execution_count": 43,
   "id": "3a2afbca",
   "metadata": {},
   "outputs": [
    {
     "data": {
      "image/png": "[encoded data removed]",
      "text/plain": [
       "<Figure size 432x288 with 1 Axes>"
      ]
     },
     "metadata": {
      "needs_background": "light"
     },
     "output_type": "display_data"
    }
   ],
   "source": [
    "fig, ax= plt.subplots()\n",
    "\n",
    "plt.hist(df_cleant['Time_taken(min)'],color = 'Orange')\n",
    "plt.xlabel('Distribution of Time Taken in minutes')\n",
    "plt.ylabel('Frequency')\n",
    "plt.title(\"Histogram of Delivery time distribution\")\n",
    "plt.show()"
   ]
  },
  {
   "cell_type": "code",
   "execution_count": 44,
   "id": "0ae7dce6",
   "metadata": {},
   "outputs": [
    {
     "name": "stdout",
     "output_type": "stream",
     "text": [
      "Requirement already satisfied: plotly in c:\\python 3.9.2\\lib\\site-packages (5.11.0)"
     ]
    },
    {
     "name": "stderr",
     "output_type": "stream",
     "text": [
      "WARNING: You are using pip version 20.2.3; however, version 23.0.1 is available.\n",
      "You should consider upgrading via the 'c:\\python 3.9.2\\python.exe -m pip install --upgrade pip' command.\n"
     ]
    },
    {
     "name": "stdout",
     "output_type": "stream",
     "text": [
      "\n",
      "Requirement already satisfied: tenacity>=6.2.0 in c:\\python 3.9.2\\lib\\site-packages (from plotly) (8.1.0)\n"
     ]
    }
   ],
   "source": [
    "!pip install plotly"
   ]
  },
  {
   "cell_type": "markdown",
   "id": "0a39a31b",
   "metadata": {},
   "source": [
    "visualissing the numberical columns"
   ]
  },
  {
   "cell_type": "code",
   "execution_count": 45,
   "id": "2ddee225",
   "metadata": {},
   "outputs": [
    {
     "name": "stderr",
     "output_type": "stream",
     "text": [
      "C:\\Users\\VIKAS\\AppData\\Local\\Temp\\ipykernel_7928\\540177538.py:9: UserWarning: Matplotlib is currently using module://matplotlib_inline.backend_inline, which is a non-GUI backend, so cannot show the figure.\n",
      "  fig.show()\n"
     ]
    },
    {
     "data": {
      "image/png": "[encoded data removed]",
      "text/plain": [
       "<Figure size 1080x720 with 6 Axes>"
      ]
     },
     "metadata": {
      "needs_background": "light"
     },
     "output_type": "display_data"
    }
   ],
   "source": [
    "fig, axes = plt.subplots(3,2, figsize = (15,10))\n",
    "\n",
    "df_cleant['Delivery_person_Age'].plot(kind = 'hist' , ax = axes [0,0], title = 'Delivery_person_Age')\n",
    "df_cleant['Delivery_person_Ratings'].plot(kind = 'hist', ax = axes[0,1], title = 'Delivery_person_Ratings')\n",
    "df_cleant['distance'].plot(kind = 'kde', ax = axes[1,0], title ='distance')\n",
    "df_cleant['order_time_preparation'].plot(kind = 'hist', ax = axes[1,1], title = 'order_time_preparation')\n",
    "df_cleant['Vehicle_condition'].plot(kind = 'hist', ax = axes[2,0], title ='vehicle_condition')\n",
    "df_cleant['multiple_deliveries'].plot(kind = 'hist', ax = axes[2,1], title = 'multiple_deliveries')\n",
    "fig.show()"
   ]
  },
  {
   "cell_type": "code",
   "execution_count": 46,
   "id": "4147cb24",
   "metadata": {},
   "outputs": [
    {
     "data": {
      "text/html": [
       "<div>\n",
       "<style scoped>\n",
       "    .dataframe tbody tr th:only-of-type {\n",
       "        vertical-align: middle;\n",
       "    }\n",
       "\n",
       "    .dataframe tbody tr th {\n",
       "        vertical-align: top;\n",
       "    }\n",
       "\n",
       "    .dataframe thead th {\n",
       "        text-align: right;\n",
       "    }\n",
       "</style>\n",
       "<table border=\"1\" class=\"dataframe\">\n",
       "  <thead>\n",
       "    <tr style=\"text-align: right;\">\n",
       "      <th></th>\n",
       "      <th>count</th>\n",
       "      <th>unique</th>\n",
       "      <th>top</th>\n",
       "      <th>freq</th>\n",
       "    </tr>\n",
       "  </thead>\n",
       "  <tbody>\n",
       "    <tr>\n",
       "      <th>Weatherconditions</th>\n",
       "      <td>56992</td>\n",
       "      <td>6</td>\n",
       "      <td>Fog</td>\n",
       "      <td>10196</td>\n",
       "    </tr>\n",
       "    <tr>\n",
       "      <th>Road_traffic_density</th>\n",
       "      <td>56992</td>\n",
       "      <td>4</td>\n",
       "      <td>Low</td>\n",
       "      <td>20113</td>\n",
       "    </tr>\n",
       "    <tr>\n",
       "      <th>Type_of_order</th>\n",
       "      <td>56992</td>\n",
       "      <td>4</td>\n",
       "      <td>Snack</td>\n",
       "      <td>14348</td>\n",
       "    </tr>\n",
       "    <tr>\n",
       "      <th>Type_of_vehicle</th>\n",
       "      <td>56992</td>\n",
       "      <td>4</td>\n",
       "      <td>motorcycle</td>\n",
       "      <td>33044</td>\n",
       "    </tr>\n",
       "    <tr>\n",
       "      <th>Festival</th>\n",
       "      <td>56992</td>\n",
       "      <td>2</td>\n",
       "      <td>No</td>\n",
       "      <td>55893</td>\n",
       "    </tr>\n",
       "    <tr>\n",
       "      <th>City</th>\n",
       "      <td>56992</td>\n",
       "      <td>3</td>\n",
       "      <td>Metropolitian</td>\n",
       "      <td>44114</td>\n",
       "    </tr>\n",
       "    <tr>\n",
       "      <th>indic</th>\n",
       "      <td>56992</td>\n",
       "      <td>2</td>\n",
       "      <td>train</td>\n",
       "      <td>45593</td>\n",
       "    </tr>\n",
       "  </tbody>\n",
       "</table>\n",
       "</div>"
      ],
      "text/plain": [
       "                      count unique             top   freq\n",
       "Weatherconditions     56992      6             Fog  10196\n",
       "Road_traffic_density  56992      4            Low   20113\n",
       "Type_of_order         56992      4          Snack   14348\n",
       "Type_of_vehicle       56992      4     motorcycle   33044\n",
       "Festival              56992      2             No   55893\n",
       "City                  56992      3  Metropolitian   44114\n",
       "indic                 56992      2           train  45593"
      ]
     },
     "execution_count": 46,
     "metadata": {},
     "output_type": "execute_result"
    }
   ],
   "source": [
    "df_cleant.describe(include='O').T"
   ]
  },
  {
   "cell_type": "code",
   "execution_count": 47,
   "id": "494577da",
   "metadata": {},
   "outputs": [
    {
     "data": {
      "text/plain": [
       "<AxesSubplot:title={'center':'City'}, ylabel='City'>"
      ]
     },
     "execution_count": 47,
     "metadata": {},
     "output_type": "execute_result"
    },
    {
     "data": {
      "image/png": "[encoded data removed]",
      "text/plain": [
       "<Figure size 1080x1080 with 6 Axes>"
      ]
     },
     "metadata": {},
     "output_type": "display_data"
    }
   ],
   "source": [
    "fig, axes = plt.subplots(3,2, figsize = (15,15))\n",
    "\n",
    "df_cleant['Weatherconditions'].value_counts().plot(kind='pie', ax = axes  [0,0], title = 'Weatherconditions')\n",
    "df_cleant['Road_traffic_density'].value_counts().plot(kind='pie', ax = axes [0,1], title = 'Road_traffic_density')\n",
    "df_cleant['Type_of_order'].value_counts().plot(kind='pie', ax = axes [1,0], title = 'Type_of_order')\n",
    "df_cleant['Type_of_vehicle'].value_counts().plot(kind='pie', ax = axes [1,1], title = 'Type_of_vehicle')\n",
    "df_cleant['Festival'].value_counts().plot(kind='pie', ax = axes [2,0], title = 'Festival')\n",
    "df_cleant['City'].value_counts().plot(kind='pie', ax = axes [2,1], title = 'City')"
   ]
  },
  {
   "cell_type": "code",
   "execution_count": 48,
   "id": "8fd1e5da",
   "metadata": {},
   "outputs": [
    {
     "data": {
      "text/plain": [
       "<seaborn.axisgrid.PairGrid at 0x17a009974f0>"
      ]
     },
     "execution_count": 48,
     "metadata": {},
     "output_type": "execute_result"
    },
    {
     "data": {
      "image/png": "[encoded data removed]",
      "text/plain": [
       "<Figure size 720x720 with 20 Axes>"
      ]
     },
     "metadata": {
      "needs_background": "light"
     },
     "output_type": "display_data"
    }
   ],
   "source": [
    "cols = ['Delivery_person_Age', 'Delivery_person_Ratings','distance','Time_taken(min)' ]\n",
    "sns.pairplot(df_cleant[cols])"
   ]
  },
  {
   "cell_type": "code",
   "execution_count": 49,
   "id": "10df3bbd",
   "metadata": {},
   "outputs": [
    {
     "data": {
      "text/plain": [
       "<AxesSubplot:xlabel='order_time_preparation', ylabel='Time_taken(min)'>"
      ]
     },
     "execution_count": 49,
     "metadata": {},
     "output_type": "execute_result"
    },
    {
     "data": {
      "image/png": "[encoded data removed]",
      "text/plain": [
       "<Figure size 1080x720 with 4 Axes>"
      ]
     },
     "metadata": {
      "needs_background": "light"
     },
     "output_type": "display_data"
    }
   ],
   "source": [
    "fig,axes = plt.subplots(2,2, figsize=(15,10))\n",
    "sns.boxplot(data = df_cleant, x ='multiple_deliveries', y = 'Time_taken(min)', ax = axes[0,0])\n",
    "sns.boxplot(data = df_cleant, x ='Vehicle_condition', y = 'Time_taken(min)', ax = axes[1,0])\n",
    "sns.boxplot(data = df_cleant, x ='order_time_preparation', y = 'Time_taken(min)', ax = axes[0,1])"
   ]
  },
  {
   "cell_type": "markdown",
   "id": "d74f37a2",
   "metadata": {},
   "source": [
    "relationship between categorical and time_taken"
   ]
  },
  {
   "cell_type": "code",
   "execution_count": 50,
   "id": "041b44a4",
   "metadata": {},
   "outputs": [
    {
     "data": {
      "text/plain": [
       "<AxesSubplot:xlabel='Time_taken(min)', ylabel='City'>"
      ]
     },
     "execution_count": 50,
     "metadata": {},
     "output_type": "execute_result"
    },
    {
     "data": {
      "image/png": "[encoded data removed]",
      "text/plain": [
       "<Figure size 1080x1296 with 6 Axes>"
      ]
     },
     "metadata": {
      "needs_background": "light"
     },
     "output_type": "display_data"
    }
   ],
   "source": [
    "fig,axes = plt.subplots(3,2, figsize = (15,18))\n",
    "sns.boxplot(data=df_cleant, y ='Weatherconditions', x ='Time_taken(min)', ax = axes[0,0])\n",
    "sns.boxplot(data=df_cleant, y ='Road_traffic_density', x ='Time_taken(min)', ax = axes[0,1])\n",
    "sns.boxplot(data=df_cleant, y ='Type_of_order', x ='Time_taken(min)', ax = axes[1,1])\n",
    "sns.boxplot(data=df_cleant, y ='Type_of_vehicle', x ='Time_taken(min)', ax = axes[1,0])\n",
    "sns.boxplot(data=df_cleant, y ='Festival', x ='Time_taken(min)', ax = axes[2,1])\n",
    "sns.boxplot(data=df_cleant, y ='City', x ='Time_taken(min)', ax = axes[2,0])"
   ]
  },
  {
   "cell_type": "markdown",
   "id": "ba14b0cd",
   "metadata": {},
   "source": [
    "correlation heatmap"
   ]
  },
  {
   "cell_type": "code",
   "execution_count": 51,
   "id": "79aecd75",
   "metadata": {},
   "outputs": [
    {
     "data": {
      "text/plain": [
       "<AxesSubplot:>"
      ]
     },
     "execution_count": 51,
     "metadata": {},
     "output_type": "execute_result"
    },
    {
     "data": {
      "image/png": "[encoded data removed]",
      "text/plain": [
       "<Figure size 432x288 with 2 Axes>"
      ]
     },
     "metadata": {
      "needs_background": "light"
     },
     "output_type": "display_data"
    }
   ],
   "source": [
    "sns.heatmap(df_cleant.corr(), annot =True)"
   ]
  },
  {
   "cell_type": "markdown",
   "id": "9a96f7c1",
   "metadata": {},
   "source": [
    "converting to binary"
   ]
  },
  {
   "cell_type": "code",
   "execution_count": 52,
   "id": "5abb3f07",
   "metadata": {},
   "outputs": [
    {
     "data": {
      "text/plain": [
       "[array(['Cloudy', 'Fog', 'Sandstorms', 'Stormy', 'Sunny', 'Windy'],\n",
       "       dtype=object),\n",
       " array(['High ', 'Jam ', 'Low ', 'Medium '], dtype=object),\n",
       " array(['Buffet ', 'Drinks ', 'Meal ', 'Snack '], dtype=object),\n",
       " array(['bicycle ', 'electric_scooter ', 'motorcycle ', 'scooter '],\n",
       "       dtype=object),\n",
       " array(['No ', 'Yes '], dtype=object),\n",
       " array(['Metropolitian ', 'Semi-Urban ', 'Urban '], dtype=object)]"
      ]
     },
     "execution_count": 52,
     "metadata": {},
     "output_type": "execute_result"
    }
   ],
   "source": [
    "#converting to binary using OneHotEncoder\n",
    "from sklearn.preprocessing import OneHotEncoder\n",
    "\n",
    "Ohe_encoder = OneHotEncoder(handle_unknown='ignore', drop = 'first', sparse=False)\n",
    "to_binary_cols = df_cleant[['Weatherconditions','Road_traffic_density','Type_of_order','Type_of_vehicle','Festival','City']]\n",
    "\n",
    "df_binary = pd.DataFrame(Ohe_encoder.fit_transform(to_binary_cols), \n",
    "                        columns=['Fog', 'Sandstorms', 'Stormy', 'Sunny', 'Windy', 'Jam ',\n",
    "                        'Low ', 'Medium ','Drinks ', 'Meal ', 'Snack ','electric_scooter ',\n",
    "                        'motorcycle ', 'scooter ','festival','Semi-Urban ', 'Urban '])\n",
    "Ohe_encoder.categories_"
   ]
  },
  {
   "cell_type": "code",
   "execution_count": 53,
   "id": "0d3a08ac",
   "metadata": {},
   "outputs": [
    {
     "data": {
      "text/html": [
       "<div>\n",
       "<style scoped>\n",
       "    .dataframe tbody tr th:only-of-type {\n",
       "        vertical-align: middle;\n",
       "    }\n",
       "\n",
       "    .dataframe tbody tr th {\n",
       "        vertical-align: top;\n",
       "    }\n",
       "\n",
       "    .dataframe thead th {\n",
       "        text-align: right;\n",
       "    }\n",
       "</style>\n",
       "<table border=\"1\" class=\"dataframe\">\n",
       "  <thead>\n",
       "    <tr style=\"text-align: right;\">\n",
       "      <th></th>\n",
       "      <th>Fog</th>\n",
       "      <th>Sandstorms</th>\n",
       "      <th>Stormy</th>\n",
       "      <th>Sunny</th>\n",
       "      <th>Windy</th>\n",
       "      <th>Jam</th>\n",
       "      <th>Low</th>\n",
       "      <th>Medium</th>\n",
       "      <th>Drinks</th>\n",
       "      <th>Meal</th>\n",
       "      <th>Snack</th>\n",
       "      <th>electric_scooter</th>\n",
       "      <th>motorcycle</th>\n",
       "      <th>scooter</th>\n",
       "      <th>festival</th>\n",
       "      <th>Semi-Urban</th>\n",
       "      <th>Urban</th>\n",
       "    </tr>\n",
       "  </thead>\n",
       "  <tbody>\n",
       "    <tr>\n",
       "      <th>0</th>\n",
       "      <td>1.0</td>\n",
       "      <td>0.0</td>\n",
       "      <td>0.0</td>\n",
       "      <td>0.0</td>\n",
       "      <td>0.0</td>\n",
       "      <td>0.0</td>\n",
       "      <td>1.0</td>\n",
       "      <td>0.0</td>\n",
       "      <td>1.0</td>\n",
       "      <td>0.0</td>\n",
       "      <td>0.0</td>\n",
       "      <td>1.0</td>\n",
       "      <td>0.0</td>\n",
       "      <td>0.0</td>\n",
       "      <td>0.0</td>\n",
       "      <td>0.0</td>\n",
       "      <td>0.0</td>\n",
       "    </tr>\n",
       "    <tr>\n",
       "      <th>1</th>\n",
       "      <td>0.0</td>\n",
       "      <td>0.0</td>\n",
       "      <td>0.0</td>\n",
       "      <td>0.0</td>\n",
       "      <td>1.0</td>\n",
       "      <td>1.0</td>\n",
       "      <td>0.0</td>\n",
       "      <td>0.0</td>\n",
       "      <td>0.0</td>\n",
       "      <td>0.0</td>\n",
       "      <td>1.0</td>\n",
       "      <td>0.0</td>\n",
       "      <td>1.0</td>\n",
       "      <td>0.0</td>\n",
       "      <td>0.0</td>\n",
       "      <td>0.0</td>\n",
       "      <td>0.0</td>\n",
       "    </tr>\n",
       "    <tr>\n",
       "      <th>2</th>\n",
       "      <td>0.0</td>\n",
       "      <td>0.0</td>\n",
       "      <td>1.0</td>\n",
       "      <td>0.0</td>\n",
       "      <td>0.0</td>\n",
       "      <td>1.0</td>\n",
       "      <td>0.0</td>\n",
       "      <td>0.0</td>\n",
       "      <td>1.0</td>\n",
       "      <td>0.0</td>\n",
       "      <td>0.0</td>\n",
       "      <td>0.0</td>\n",
       "      <td>1.0</td>\n",
       "      <td>0.0</td>\n",
       "      <td>0.0</td>\n",
       "      <td>0.0</td>\n",
       "      <td>0.0</td>\n",
       "    </tr>\n",
       "    <tr>\n",
       "      <th>3</th>\n",
       "      <td>1.0</td>\n",
       "      <td>0.0</td>\n",
       "      <td>0.0</td>\n",
       "      <td>0.0</td>\n",
       "      <td>0.0</td>\n",
       "      <td>0.0</td>\n",
       "      <td>0.0</td>\n",
       "      <td>1.0</td>\n",
       "      <td>0.0</td>\n",
       "      <td>1.0</td>\n",
       "      <td>0.0</td>\n",
       "      <td>0.0</td>\n",
       "      <td>0.0</td>\n",
       "      <td>1.0</td>\n",
       "      <td>0.0</td>\n",
       "      <td>0.0</td>\n",
       "      <td>0.0</td>\n",
       "    </tr>\n",
       "    <tr>\n",
       "      <th>4</th>\n",
       "      <td>0.0</td>\n",
       "      <td>0.0</td>\n",
       "      <td>0.0</td>\n",
       "      <td>1.0</td>\n",
       "      <td>0.0</td>\n",
       "      <td>0.0</td>\n",
       "      <td>0.0</td>\n",
       "      <td>1.0</td>\n",
       "      <td>1.0</td>\n",
       "      <td>0.0</td>\n",
       "      <td>0.0</td>\n",
       "      <td>0.0</td>\n",
       "      <td>0.0</td>\n",
       "      <td>1.0</td>\n",
       "      <td>0.0</td>\n",
       "      <td>0.0</td>\n",
       "      <td>0.0</td>\n",
       "    </tr>\n",
       "  </tbody>\n",
       "</table>\n",
       "</div>"
      ],
      "text/plain": [
       "   Fog  Sandstorms  Stormy  Sunny  Windy  Jam   Low   Medium   Drinks   Meal   \\\n",
       "0  1.0         0.0     0.0    0.0    0.0   0.0   1.0      0.0      1.0    0.0   \n",
       "1  0.0         0.0     0.0    0.0    1.0   1.0   0.0      0.0      0.0    0.0   \n",
       "2  0.0         0.0     1.0    0.0    0.0   1.0   0.0      0.0      1.0    0.0   \n",
       "3  1.0         0.0     0.0    0.0    0.0   0.0   0.0      1.0      0.0    1.0   \n",
       "4  0.0         0.0     0.0    1.0    0.0   0.0   0.0      1.0      1.0    0.0   \n",
       "\n",
       "   Snack   electric_scooter   motorcycle   scooter   festival  Semi-Urban   \\\n",
       "0     0.0                1.0          0.0       0.0       0.0          0.0   \n",
       "1     1.0                0.0          1.0       0.0       0.0          0.0   \n",
       "2     0.0                0.0          1.0       0.0       0.0          0.0   \n",
       "3     0.0                0.0          0.0       1.0       0.0          0.0   \n",
       "4     0.0                0.0          0.0       1.0       0.0          0.0   \n",
       "\n",
       "   Urban   \n",
       "0     0.0  \n",
       "1     0.0  \n",
       "2     0.0  \n",
       "3     0.0  \n",
       "4     0.0  "
      ]
     },
     "execution_count": 53,
     "metadata": {},
     "output_type": "execute_result"
    }
   ],
   "source": [
    "df_binary.head()"
   ]
  },
  {
   "cell_type": "markdown",
   "id": "9489efdc",
   "metadata": {},
   "source": [
    "the numerical features"
   ]
  },
  {
   "cell_type": "code",
   "execution_count": 54,
   "id": "cd2f969a",
   "metadata": {},
   "outputs": [],
   "source": [
    "df_num = df_cleant[['Delivery_person_Age','Delivery_person_Ratings','Vehicle_condition','distance','Time_taken(min)'\n",
    "                    ,'order_time_preparation','multiple_deliveries','indic']]"
   ]
  },
  {
   "cell_type": "code",
   "execution_count": 55,
   "id": "3e793b35",
   "metadata": {},
   "outputs": [
    {
     "data": {
      "text/html": [
       "<div>\n",
       "<style scoped>\n",
       "    .dataframe tbody tr th:only-of-type {\n",
       "        vertical-align: middle;\n",
       "    }\n",
       "\n",
       "    .dataframe tbody tr th {\n",
       "        vertical-align: top;\n",
       "    }\n",
       "\n",
       "    .dataframe thead th {\n",
       "        text-align: right;\n",
       "    }\n",
       "</style>\n",
       "<table border=\"1\" class=\"dataframe\">\n",
       "  <thead>\n",
       "    <tr style=\"text-align: right;\">\n",
       "      <th></th>\n",
       "      <th>Delivery_person_Age</th>\n",
       "      <th>Delivery_person_Ratings</th>\n",
       "      <th>Vehicle_condition</th>\n",
       "      <th>distance</th>\n",
       "      <th>Time_taken(min)</th>\n",
       "      <th>order_time_preparation</th>\n",
       "      <th>multiple_deliveries</th>\n",
       "      <th>indic</th>\n",
       "      <th>Fog</th>\n",
       "      <th>Sandstorms</th>\n",
       "      <th>...</th>\n",
       "      <th>Medium</th>\n",
       "      <th>Drinks</th>\n",
       "      <th>Meal</th>\n",
       "      <th>Snack</th>\n",
       "      <th>electric_scooter</th>\n",
       "      <th>motorcycle</th>\n",
       "      <th>scooter</th>\n",
       "      <th>festival</th>\n",
       "      <th>Semi-Urban</th>\n",
       "      <th>Urban</th>\n",
       "    </tr>\n",
       "  </thead>\n",
       "  <tbody>\n",
       "    <tr>\n",
       "      <th>0</th>\n",
       "      <td>30.0</td>\n",
       "      <td>4.7</td>\n",
       "      <td>3.0</td>\n",
       "      <td>6.0</td>\n",
       "      <td>NaN</td>\n",
       "      <td>10.0</td>\n",
       "      <td>1.0</td>\n",
       "      <td>test</td>\n",
       "      <td>1.0</td>\n",
       "      <td>0.0</td>\n",
       "      <td>...</td>\n",
       "      <td>0.0</td>\n",
       "      <td>1.0</td>\n",
       "      <td>0.0</td>\n",
       "      <td>0.0</td>\n",
       "      <td>1.0</td>\n",
       "      <td>0.0</td>\n",
       "      <td>0.0</td>\n",
       "      <td>0.0</td>\n",
       "      <td>0.0</td>\n",
       "      <td>0.0</td>\n",
       "    </tr>\n",
       "    <tr>\n",
       "      <th>1</th>\n",
       "      <td>28.0</td>\n",
       "      <td>4.6</td>\n",
       "      <td>0.0</td>\n",
       "      <td>17.0</td>\n",
       "      <td>NaN</td>\n",
       "      <td>5.0</td>\n",
       "      <td>1.0</td>\n",
       "      <td>test</td>\n",
       "      <td>0.0</td>\n",
       "      <td>0.0</td>\n",
       "      <td>...</td>\n",
       "      <td>0.0</td>\n",
       "      <td>0.0</td>\n",
       "      <td>0.0</td>\n",
       "      <td>1.0</td>\n",
       "      <td>0.0</td>\n",
       "      <td>1.0</td>\n",
       "      <td>0.0</td>\n",
       "      <td>0.0</td>\n",
       "      <td>0.0</td>\n",
       "      <td>0.0</td>\n",
       "    </tr>\n",
       "    <tr>\n",
       "      <th>2</th>\n",
       "      <td>23.0</td>\n",
       "      <td>4.5</td>\n",
       "      <td>0.0</td>\n",
       "      <td>13.0</td>\n",
       "      <td>NaN</td>\n",
       "      <td>10.0</td>\n",
       "      <td>1.0</td>\n",
       "      <td>test</td>\n",
       "      <td>0.0</td>\n",
       "      <td>0.0</td>\n",
       "      <td>...</td>\n",
       "      <td>0.0</td>\n",
       "      <td>1.0</td>\n",
       "      <td>0.0</td>\n",
       "      <td>0.0</td>\n",
       "      <td>0.0</td>\n",
       "      <td>1.0</td>\n",
       "      <td>0.0</td>\n",
       "      <td>0.0</td>\n",
       "      <td>0.0</td>\n",
       "      <td>0.0</td>\n",
       "    </tr>\n",
       "    <tr>\n",
       "      <th>3</th>\n",
       "      <td>21.0</td>\n",
       "      <td>4.8</td>\n",
       "      <td>1.0</td>\n",
       "      <td>13.0</td>\n",
       "      <td>NaN</td>\n",
       "      <td>5.0</td>\n",
       "      <td>1.0</td>\n",
       "      <td>test</td>\n",
       "      <td>1.0</td>\n",
       "      <td>0.0</td>\n",
       "      <td>...</td>\n",
       "      <td>1.0</td>\n",
       "      <td>0.0</td>\n",
       "      <td>1.0</td>\n",
       "      <td>0.0</td>\n",
       "      <td>0.0</td>\n",
       "      <td>0.0</td>\n",
       "      <td>1.0</td>\n",
       "      <td>0.0</td>\n",
       "      <td>0.0</td>\n",
       "      <td>0.0</td>\n",
       "    </tr>\n",
       "    <tr>\n",
       "      <th>4</th>\n",
       "      <td>31.0</td>\n",
       "      <td>4.6</td>\n",
       "      <td>2.0</td>\n",
       "      <td>17.0</td>\n",
       "      <td>NaN</td>\n",
       "      <td>15.0</td>\n",
       "      <td>1.0</td>\n",
       "      <td>test</td>\n",
       "      <td>0.0</td>\n",
       "      <td>0.0</td>\n",
       "      <td>...</td>\n",
       "      <td>1.0</td>\n",
       "      <td>1.0</td>\n",
       "      <td>0.0</td>\n",
       "      <td>0.0</td>\n",
       "      <td>0.0</td>\n",
       "      <td>0.0</td>\n",
       "      <td>1.0</td>\n",
       "      <td>0.0</td>\n",
       "      <td>0.0</td>\n",
       "      <td>0.0</td>\n",
       "    </tr>\n",
       "  </tbody>\n",
       "</table>\n",
       "<p>5 rows × 25 columns</p>\n",
       "</div>"
      ],
      "text/plain": [
       "   Delivery_person_Age  Delivery_person_Ratings  Vehicle_condition  distance  \\\n",
       "0                 30.0                      4.7                3.0       6.0   \n",
       "1                 28.0                      4.6                0.0      17.0   \n",
       "2                 23.0                      4.5                0.0      13.0   \n",
       "3                 21.0                      4.8                1.0      13.0   \n",
       "4                 31.0                      4.6                2.0      17.0   \n",
       "\n",
       "   Time_taken(min)  order_time_preparation  multiple_deliveries indic  Fog  \\\n",
       "0              NaN                    10.0                  1.0  test  1.0   \n",
       "1              NaN                     5.0                  1.0  test  0.0   \n",
       "2              NaN                    10.0                  1.0  test  0.0   \n",
       "3              NaN                     5.0                  1.0  test  1.0   \n",
       "4              NaN                    15.0                  1.0  test  0.0   \n",
       "\n",
       "   Sandstorms  ...  Medium   Drinks   Meal   Snack   electric_scooter   \\\n",
       "0         0.0  ...      0.0      1.0    0.0     0.0                1.0   \n",
       "1         0.0  ...      0.0      0.0    0.0     1.0                0.0   \n",
       "2         0.0  ...      0.0      1.0    0.0     0.0                0.0   \n",
       "3         0.0  ...      1.0      0.0    1.0     0.0                0.0   \n",
       "4         0.0  ...      1.0      1.0    0.0     0.0                0.0   \n",
       "\n",
       "   motorcycle   scooter   festival  Semi-Urban   Urban   \n",
       "0          0.0       0.0       0.0          0.0     0.0  \n",
       "1          1.0       0.0       0.0          0.0     0.0  \n",
       "2          1.0       0.0       0.0          0.0     0.0  \n",
       "3          0.0       1.0       0.0          0.0     0.0  \n",
       "4          0.0       1.0       0.0          0.0     0.0  \n",
       "\n",
       "[5 rows x 25 columns]"
      ]
     },
     "execution_count": 55,
     "metadata": {},
     "output_type": "execute_result"
    }
   ],
   "source": [
    "df_transformed = pd.concat([df_num, df_binary], axis = 1)\n",
    "df_transformed.head()"
   ]
  },
  {
   "cell_type": "code",
   "execution_count": 56,
   "id": "58d56356",
   "metadata": {},
   "outputs": [
    {
     "name": "stdout",
     "output_type": "stream",
     "text": [
      "<class 'pandas.core.frame.DataFrame'>\n",
      "RangeIndex: 56992 entries, 0 to 56991\n",
      "Data columns (total 25 columns):\n",
      " #   Column                   Non-Null Count  Dtype  \n",
      "---  ------                   --------------  -----  \n",
      " 0   Delivery_person_Age      56992 non-null  float64\n",
      " 1   Delivery_person_Ratings  56992 non-null  float64\n",
      " 2   Vehicle_condition        56992 non-null  float64\n",
      " 3   distance                 56992 non-null  float64\n",
      " 4   Time_taken(min)          45593 non-null  float64\n",
      " 5   order_time_preparation   56992 non-null  float64\n",
      " 6   multiple_deliveries      56992 non-null  float64\n",
      " 7   indic                    56992 non-null  object \n",
      " 8   Fog                      56992 non-null  float64\n",
      " 9   Sandstorms               56992 non-null  float64\n",
      " 10  Stormy                   56992 non-null  float64\n",
      " 11  Sunny                    56992 non-null  float64\n",
      " 12  Windy                    56992 non-null  float64\n",
      " 13  Jam                      56992 non-null  float64\n",
      " 14  Low                      56992 non-null  float64\n",
      " 15  Medium                   56992 non-null  float64\n",
      " 16  Drinks                   56992 non-null  float64\n",
      " 17  Meal                     56992 non-null  float64\n",
      " 18  Snack                    56992 non-null  float64\n",
      " 19  electric_scooter         56992 non-null  float64\n",
      " 20  motorcycle               56992 non-null  float64\n",
      " 21  scooter                  56992 non-null  float64\n",
      " 22  festival                 56992 non-null  float64\n",
      " 23  Semi-Urban               56992 non-null  float64\n",
      " 24  Urban                    56992 non-null  float64\n",
      "dtypes: float64(24), object(1)\n",
      "memory usage: 10.9+ MB\n"
     ]
    }
   ],
   "source": [
    "df_transformed.info()"
   ]
  },
  {
   "cell_type": "code",
   "execution_count": 57,
   "id": "5d75d110",
   "metadata": {},
   "outputs": [],
   "source": [
    "test, train = df_transformed[df_transformed[\"indic\"].eq(\"test\")], df_transformed[df_transformed[\"indic\"].eq(\"train\")]"
   ]
  },
  {
   "cell_type": "code",
   "execution_count": 58,
   "id": "6c9355f5",
   "metadata": {},
   "outputs": [],
   "source": [
    "train = pd.DataFrame(df_transformed[df_transformed['indic'].eq('train')])\n",
    "test = pd.DataFrame(df_transformed[df_transformed['indic'].eq('test')])"
   ]
  },
  {
   "cell_type": "code",
   "execution_count": 59,
   "id": "ddf43c2e",
   "metadata": {},
   "outputs": [],
   "source": [
    "train.drop(['indic'], axis = 1, inplace = True)\n",
    "test.drop(['indic','Time_taken(min)'], axis = 1, inplace = True)"
   ]
  },
  {
   "cell_type": "code",
   "execution_count": 60,
   "id": "768263b2",
   "metadata": {},
   "outputs": [
    {
     "name": "stdout",
     "output_type": "stream",
     "text": [
      "<class 'pandas.core.frame.DataFrame'>\n",
      "Int64Index: 45593 entries, 11399 to 56991\n",
      "Data columns (total 24 columns):\n",
      " #   Column                   Non-Null Count  Dtype  \n",
      "---  ------                   --------------  -----  \n",
      " 0   Delivery_person_Age      45593 non-null  float64\n",
      " 1   Delivery_person_Ratings  45593 non-null  float64\n",
      " 2   Vehicle_condition        45593 non-null  float64\n",
      " 3   distance                 45593 non-null  float64\n",
      " 4   Time_taken(min)          45593 non-null  float64\n",
      " 5   order_time_preparation   45593 non-null  float64\n",
      " 6   multiple_deliveries      45593 non-null  float64\n",
      " 7   Fog                      45593 non-null  float64\n",
      " 8   Sandstorms               45593 non-null  float64\n",
      " 9   Stormy                   45593 non-null  float64\n",
      " 10  Sunny                    45593 non-null  float64\n",
      " 11  Windy                    45593 non-null  float64\n",
      " 12  Jam                      45593 non-null  float64\n",
      " 13  Low                      45593 non-null  float64\n",
      " 14  Medium                   45593 non-null  float64\n",
      " 15  Drinks                   45593 non-null  float64\n",
      " 16  Meal                     45593 non-null  float64\n",
      " 17  Snack                    45593 non-null  float64\n",
      " 18  electric_scooter         45593 non-null  float64\n",
      " 19  motorcycle               45593 non-null  float64\n",
      " 20  scooter                  45593 non-null  float64\n",
      " 21  festival                 45593 non-null  float64\n",
      " 22  Semi-Urban               45593 non-null  float64\n",
      " 23  Urban                    45593 non-null  float64\n",
      "dtypes: float64(24)\n",
      "memory usage: 8.7 MB\n"
     ]
    }
   ],
   "source": [
    "train.info()"
   ]
  },
  {
   "cell_type": "markdown",
   "id": "e154d75c",
   "metadata": {},
   "source": [
    "# Separating Train data into Features and Target Variable"
   ]
  },
  {
   "cell_type": "markdown",
   "id": "03cc8a42",
   "metadata": {},
   "source": [
    "Only the train data is important for building the models."
   ]
  },
  {
   "cell_type": "code",
   "execution_count": 61,
   "id": "b0d96308",
   "metadata": {},
   "outputs": [],
   "source": [
    "X = train.drop(['Time_taken(min)'], axis = 1)\n",
    "y = train['Time_taken(min)']"
   ]
  },
  {
   "cell_type": "code",
   "execution_count": 62,
   "id": "5a8243ab",
   "metadata": {},
   "outputs": [
    {
     "data": {
      "text/plain": [
       "((45593, 23), (45593,))"
      ]
     },
     "execution_count": 62,
     "metadata": {},
     "output_type": "execute_result"
    }
   ],
   "source": [
    "X.shape, y.shape"
   ]
  },
  {
   "cell_type": "code",
   "execution_count": 63,
   "id": "089b9c23",
   "metadata": {},
   "outputs": [],
   "source": [
    "from sklearn.model_selection import train_test_split\n",
    "X_train, X_test, y_train, y_test = train_test_split(X,y, test_size = 0.4, random_state = 16 )"
   ]
  },
  {
   "cell_type": "markdown",
   "id": "34bcf98e",
   "metadata": {},
   "source": [
    "Using all 25 features can lead to overfitting of the data and the predictions will be off. It can also be computationally very heavy. Hence, feature selection is an important task.I will use three methods for feature selection:\n",
    "\n",
    "1- Random Forest Importance\n",
    "2- Lasso Regression\n",
    "3- Mutual Inforamtion"
   ]
  },
  {
   "cell_type": "code",
   "execution_count": 64,
   "id": "e7ca1e43",
   "metadata": {},
   "outputs": [
    {
     "data": {
      "image/png": "[encoded data removed]",
      "text/plain": [
       "<Figure size 432x288 with 1 Axes>"
      ]
     },
     "metadata": {
      "needs_background": "light"
     },
     "output_type": "display_data"
    }
   ],
   "source": [
    "#RANDOM FOREST\n",
    "from sklearn.ensemble import RandomForestRegressor\n",
    "\n",
    "rf = RandomForestRegressor( criterion='squared_error', random_state = 7)\n",
    "rf.fit(X_train,y_train)\n",
    "\n",
    "feature_importance = rf.feature_importances_\n",
    "plt.bar(X.columns, feature_importance, color = 'orange')\n",
    "plt.xticks(rotation='vertical')\n",
    "plt.xlabel('Feature_Labels')\n",
    "plt.ylabel('Feature_importance')\n",
    "plt.title('comparison of different feature importance ')\n",
    "plt.show()"
   ]
  },
  {
   "cell_type": "code",
   "execution_count": 65,
   "id": "550348c6",
   "metadata": {},
   "outputs": [
    {
     "data": {
      "text/plain": [
       "Index(['Delivery_person_Age', 'Delivery_person_Ratings', 'Vehicle_condition',\n",
       "       'distance', 'multiple_deliveries', 'Sunny', 'Low '],\n",
       "      dtype='object')"
      ]
     },
     "execution_count": 65,
     "metadata": {},
     "output_type": "execute_result"
    }
   ],
   "source": [
    "#using select from model\n",
    "from sklearn.feature_selection import SelectFromModel\n",
    "\n",
    "rf_selector = SelectFromModel(estimator=RandomForestRegressor())\n",
    "rf_selector.fit(X_train,y_train)\n",
    "X.columns[rf_selector.get_support()]"
   ]
  },
  {
   "cell_type": "code",
   "execution_count": 66,
   "id": "a5304ae2",
   "metadata": {},
   "outputs": [
    {
     "name": "stdout",
     "output_type": "stream",
     "text": [
      "Best alpha:  0.10333252612159745\n"
     ]
    }
   ],
   "source": [
    "#using lassoCV to find the best alpha\n",
    "from sklearn.linear_model import LassoCV\n",
    "lassocv = LassoCV(cv=10)\n",
    "lassocv.fit(X_train,y_train)\n",
    "alpha = lassocv.alpha_\n",
    "print('Best alpha: ', alpha)"
   ]
  },
  {
   "cell_type": "code",
   "execution_count": 67,
   "id": "aa5cba16",
   "metadata": {},
   "outputs": [
    {
     "name": "stdout",
     "output_type": "stream",
     "text": [
      "Index(['Delivery_person_Age', 'Delivery_person_Ratings', 'Vehicle_condition',\n",
      "       'distance', 'order_time_preparation', 'multiple_deliveries', 'Fog',\n",
      "       'Sandstorms', 'Stormy', 'Sunny', 'Windy', 'Jam ', 'Low ', 'Medium ',\n",
      "       'electric_scooter ', 'scooter ', 'festival', 'Semi-Urban ', 'Urban '],\n",
      "      dtype='object')\n"
     ]
    },
    {
     "data": {
      "image/png": "[encoded data removed]",
      "text/plain": [
       "<Figure size 432x288 with 1 Axes>"
      ]
     },
     "metadata": {
      "needs_background": "light"
     },
     "output_type": "display_data"
    }
   ],
   "source": [
    "from sklearn.linear_model import Lasso\n",
    "\n",
    "lasso_selector = SelectFromModel(Lasso(alpha=0.0155, random_state =34))\n",
    "lasso_selector.fit(X_train,y_train)\n",
    "print(X.columns[lasso_selector.get_support()])\n",
    "\n",
    "coefs = lassocv.coef_\n",
    "plt.bar(X.columns, coefs, color ='orange')\n",
    "plt.xticks(rotation = 'vertical')\n",
    "plt.xlabel('feature labels')\n",
    "plt.ylabel('feature coef')\n",
    "plt.title('camprision of diffrent feature imporatance')\n",
    "plt.show()"
   ]
  },
  {
   "cell_type": "code",
   "execution_count": 68,
   "id": "8cd1feb7",
   "metadata": {},
   "outputs": [
    {
     "data": {
      "text/plain": [
       "Index(['Delivery_person_Age', 'Delivery_person_Ratings', 'Vehicle_condition',\n",
       "       'multiple_deliveries', 'Jam ', 'Low ', 'festival'],\n",
       "      dtype='object')"
      ]
     },
     "execution_count": 68,
     "metadata": {},
     "output_type": "execute_result"
    }
   ],
   "source": [
    "#select 7 feature based on mutual info regression\n",
    "from sklearn.feature_selection import SelectKBest, mutual_info_regression\n",
    "selector = SelectKBest(mutual_info_regression, k=7)\n",
    "selector.fit(X_train,y_train)\n",
    "X.columns[selector.get_support()]"
   ]
  },
  {
   "cell_type": "markdown",
   "id": "53c84c29",
   "metadata": {},
   "source": [
    "based on above we can select 8 features\n",
    "1.Delivery person ratings\n",
    "2.multiple deliveries\n",
    "3.Low\n",
    "4.vehicle condition\n",
    "5.Festival\n",
    "6.Delivery person age\n",
    "7.Sunny\n",
    "8.Urban"
   ]
  },
  {
   "cell_type": "code",
   "execution_count": 69,
   "id": "fb494758",
   "metadata": {},
   "outputs": [
    {
     "data": {
      "text/plain": [
       "((27355, 7), (27355,))"
      ]
     },
     "execution_count": 69,
     "metadata": {},
     "output_type": "execute_result"
    }
   ],
   "source": [
    "X_train.drop(['Fog', 'Sandstorms', 'Stormy','Windy', 'Jam ', \n",
    "            'Medium ','Drinks ', 'Meal ', 'Snack ','electric_scooter ', 'motorcycle ', \n",
    "            'scooter ','Semi-Urban ','distance','order_time_preparation','Delivery_person_Age'], \n",
    "             axis = 1, inplace = True)\n",
    "X_train.shape, y_train.shape"
   ]
  },
  {
   "cell_type": "code",
   "execution_count": 70,
   "id": "5325929f",
   "metadata": {},
   "outputs": [
    {
     "data": {
      "text/plain": [
       "((18238, 7), (18238,))"
      ]
     },
     "execution_count": 70,
     "metadata": {},
     "output_type": "execute_result"
    }
   ],
   "source": [
    "X_test.drop([ 'Fog', 'Sandstorms', 'Stormy','Windy', 'Jam ', \n",
    "            'Medium ','Drinks ', 'Meal ', 'Snack ','electric_scooter ', 'motorcycle ', \n",
    "            'scooter ','Semi-Urban ','distance','order_time_preparation','Delivery_person_Age'], \n",
    "             axis = 1, inplace = True)\n",
    "X_test.shape , y_test.shape"
   ]
  },
  {
   "cell_type": "markdown",
   "id": "9c43468e",
   "metadata": {},
   "source": [
    "# BUILDING MODELS"
   ]
  },
  {
   "cell_type": "code",
   "execution_count": 71,
   "id": "f473bc7a",
   "metadata": {},
   "outputs": [],
   "source": [
    "test_mse=[]\n",
    "train_mse=[]"
   ]
  },
  {
   "cell_type": "code",
   "execution_count": 72,
   "id": "1dd0ff45",
   "metadata": {},
   "outputs": [],
   "source": [
    "from sklearn.linear_model import LinearRegression\n",
    "from sklearn.metrics import mean_squared_error\n",
    "\n",
    "reg = LinearRegression()\n",
    "reg.fit(X_train, y_train)\n",
    "train_mse.append(mean_squared_error(y_train, reg.predict(X_train)))\n",
    "test_mse.append(mean_squared_error(y_test, reg.predict(X_test)))"
   ]
  },
  {
   "cell_type": "code",
   "execution_count": 73,
   "id": "96efb3a7",
   "metadata": {},
   "outputs": [
    {
     "name": "stdout",
     "output_type": "stream",
     "text": [
      "Intercept 64.01057072511568\n",
      "('Delivery_person_Ratings', -7.645110706545642)\n",
      "('Vehicle_condition', -1.9680684148343586)\n",
      "('multiple_deliveries', 3.9919673103438402)\n",
      "('Sunny', -4.488171638255002)\n",
      "('Low ', -6.261285328489139)\n",
      "('festival', 12.777088390711818)\n",
      "('Urban ', -2.572024058448113)\n",
      "R-squared 0.4545926917637515\n"
     ]
    }
   ],
   "source": [
    "#regression coff\n",
    "print(\"Intercept\", reg.intercept_)\n",
    "\n",
    "for i in zip(X_train.columns, reg.coef_):\n",
    "    print(i)\n",
    "print(\"R-squared\", reg.score(X_train,y_train))"
   ]
  },
  {
   "cell_type": "code",
   "execution_count": 74,
   "id": "9f342a8a",
   "metadata": {},
   "outputs": [
    {
     "name": "stdout",
     "output_type": "stream",
     "text": [
      "Tree depth 17\n",
      "terminal nodes 977\n"
     ]
    }
   ],
   "source": [
    "from sklearn.tree import DecisionTreeRegressor\n",
    "dtree = DecisionTreeRegressor(criterion='squared_error', random_state=1)\n",
    "dtree.fit(X_train,y_train)\n",
    "print(\"Tree depth\", dtree.get_depth())\n",
    "print(\"terminal nodes\", dtree.get_n_leaves())\n",
    "train_mse.append(mean_squared_error(y_train,dtree.predict(X_train)))\n",
    "test_mse.append(mean_squared_error(y_test,dtree.predict(X_test)))"
   ]
  },
  {
   "cell_type": "code",
   "execution_count": 75,
   "id": "8ea2aec9",
   "metadata": {},
   "outputs": [
    {
     "name": "stdout",
     "output_type": "stream",
     "text": [
      "DecisionTreeRegressor(max_depth=10, max_leaf_nodes=70, random_state=1)\n"
     ]
    }
   ],
   "source": [
    "from sklearn.model_selection import GridSearchCV\n",
    "param_grid={\n",
    "    'max_depth':[2,4,6,8,10,12,16,20],\n",
    "    'max_leaf_nodes':[6,10,15,20,30,50,70]\n",
    "}\n",
    "\n",
    "dtree_grid_search= GridSearchCV(dtree, param_grid=param_grid,\n",
    "                                cv=5,scoring='neg_mean_squared_error',\n",
    "                                return_train_score=True\n",
    ")\n",
    "dtree_grid_search.fit(X_train,y_train)\n",
    "dtree_grid_search.best_params_\n",
    "print(dtree_grid_search.best_estimator_)"
   ]
  },
  {
   "cell_type": "code",
   "execution_count": 76,
   "id": "a138be30",
   "metadata": {},
   "outputs": [],
   "source": [
    "dtree_prund = DecisionTreeRegressor(max_depth=10, max_leaf_nodes=70,\n",
    "                                   criterion='squared_error', random_state=1)\n",
    "dtree_prund.fit(X_train,y_train)\n",
    "\n",
    "train_mse.append(mean_squared_error(y_train, dtree_prund.predict(X_train)))\n",
    "test_mse.append(mean_squared_error(y_test, dtree_prund.predict(X_test)))"
   ]
  },
  {
   "cell_type": "code",
   "execution_count": 78,
   "id": "e99ac940",
   "metadata": {},
   "outputs": [
    {
     "name": "stdout",
     "output_type": "stream",
     "text": [
      "{'bootstrap': True, 'ccp_alpha': 0.0, 'criterion': 'squared_error', 'max_depth': None, 'max_features': 'auto', 'max_leaf_nodes': None, 'max_samples': None, 'min_impurity_decrease': 0.0, 'min_samples_leaf': 1, 'min_samples_split': 2, 'min_weight_fraction_leaf': 0.0, 'n_estimators': 100, 'n_jobs': None, 'oob_score': False, 'random_state': 1, 'verbose': 0, 'warm_start': False}\n"
     ]
    }
   ],
   "source": [
    "rf_reg = RandomForestRegressor(criterion='squared_error', random_state=1)\n",
    "rf_reg.fit(X_train,y_train)\n",
    "print(rf_reg.get_params(deep=True))\n",
    "train_mse.append(mean_squared_error(y_train,rf_reg.predict(X_train)))\n",
    "test_mse.append(mean_squared_error(y_test,rf_reg.predict(X_test)))\n"
   ]
  },
  {
   "cell_type": "code",
   "execution_count": 80,
   "id": "adfaadda",
   "metadata": {},
   "outputs": [
    {
     "data": {
      "text/plain": [
       "{'max_depth': 8, 'max_features': None}"
      ]
     },
     "execution_count": 80,
     "metadata": {},
     "output_type": "execute_result"
    }
   ],
   "source": [
    "#Hypertunnig random forest , this will take time\n",
    "\n",
    "param_grid = {\n",
    "    'max_depth': [2,4,6,8,10,12],\n",
    "    'max_features': ['sqrt', 'log2', None],\n",
    "}\n",
    "\n",
    "rf_grid_search = GridSearchCV(rf_reg, param_grid=param_grid,\n",
    "                              cv = 5, scoring = 'neg_mean_squared_error',\n",
    "                              return_train_score = True )\n",
    "rf_grid_search.fit(X_train, y_train)\n",
    "rf_grid_search.best_params_\n"
   ]
  },
  {
   "cell_type": "code",
   "execution_count": 81,
   "id": "2857e771",
   "metadata": {},
   "outputs": [],
   "source": [
    "#Randomforest with hypertuned parameters\n",
    "\n",
    "rf_cv = RandomForestRegressor(max_depth=8,max_features=None, random_state=5)\n",
    "rf_cv.fit(X_train,y_train)\n",
    "train_mse.append(mean_squared_error(y_train,rf_cv.predict(X_train)))\n",
    "test_mse.append(mean_squared_error(y_test,rf_cv.predict(X_test)))"
   ]
  },
  {
   "cell_type": "code",
   "execution_count": 82,
   "id": "a8b8b6dc",
   "metadata": {},
   "outputs": [],
   "source": [
    "from sklearn.ensemble import AdaBoostRegressor\n",
    "ada = AdaBoostRegressor(random_state=10)\n",
    "ada.fit(X_train,y_train)\n",
    "train_mse.append(mean_squared_error(y_train,ada.predict(X_train)))\n",
    "test_mse.append(mean_squared_error(y_test,ada.predict(X_test)))"
   ]
  },
  {
   "cell_type": "code",
   "execution_count": 86,
   "id": "ea017f7a",
   "metadata": {},
   "outputs": [
    {
     "name": "stdout",
     "output_type": "stream",
     "text": [
      "AdaBoostRegressor(learning_rate=0.05, loss='exponential', n_estimators=75,\n",
      "                  random_state=10)\n"
     ]
    }
   ],
   "source": [
    "#tunning parameter for adaboost\n",
    "param_grid={\n",
    "    'n_estimators':[25,50,75,100],\n",
    "    \"learning_rate\":[0.001, 0.01, 0.05, 0.1],\n",
    "    'loss':['linear', 'exponential']\n",
    "}\n",
    "ada_grid_search = GridSearchCV(ada, param_grid=param_grid,\n",
    "                              cv=5, scoring='neg_mean_squared_error',\n",
    "                              return_train_score=True)\n",
    "ada_grid_search.fit(X_train,y_train)\n",
    "ada_grid_search.best_params_\n",
    "print(ada_grid_search.best_estimator_)"
   ]
  },
  {
   "cell_type": "code",
   "execution_count": 87,
   "id": "384d5dad",
   "metadata": {},
   "outputs": [],
   "source": [
    "#adaboost after cv\n",
    "ada_reg = AdaBoostRegressor(learning_rate=0.05, loss='exponential', n_estimators=75,random_state=10)\n",
    "ada_reg.fit(X_train,y_train)\n",
    "train_mse.append(mean_squared_error(y_train,ada_reg.predict(X_train)))\n",
    "test_mse.append(mean_squared_error(y_test,ada_reg.predict(X_test)))"
   ]
  },
  {
   "cell_type": "code",
   "execution_count": 89,
   "id": "82088d57",
   "metadata": {},
   "outputs": [
    {
     "name": "stderr",
     "output_type": "stream",
     "text": [
      "c:\\python 3.9.2\\lib\\site-packages\\sklearn\\base.py:441: UserWarning: X does not have valid feature names, but KNeighborsRegressor was fitted with feature names\n",
      "  warnings.warn(\n",
      "c:\\python 3.9.2\\lib\\site-packages\\sklearn\\base.py:441: UserWarning: X does not have valid feature names, but KNeighborsRegressor was fitted with feature names\n",
      "  warnings.warn(\n",
      "c:\\python 3.9.2\\lib\\site-packages\\sklearn\\base.py:441: UserWarning: X does not have valid feature names, but KNeighborsRegressor was fitted with feature names\n",
      "  warnings.warn(\n",
      "c:\\python 3.9.2\\lib\\site-packages\\sklearn\\base.py:441: UserWarning: X does not have valid feature names, but KNeighborsRegressor was fitted with feature names\n",
      "  warnings.warn(\n",
      "c:\\python 3.9.2\\lib\\site-packages\\sklearn\\base.py:441: UserWarning: X does not have valid feature names, but KNeighborsRegressor was fitted with feature names\n",
      "  warnings.warn(\n",
      "c:\\python 3.9.2\\lib\\site-packages\\sklearn\\base.py:441: UserWarning: X does not have valid feature names, but KNeighborsRegressor was fitted with feature names\n",
      "  warnings.warn(\n",
      "c:\\python 3.9.2\\lib\\site-packages\\sklearn\\base.py:441: UserWarning: X does not have valid feature names, but KNeighborsRegressor was fitted with feature names\n",
      "  warnings.warn(\n",
      "c:\\python 3.9.2\\lib\\site-packages\\sklearn\\base.py:441: UserWarning: X does not have valid feature names, but KNeighborsRegressor was fitted with feature names\n",
      "  warnings.warn(\n",
      "c:\\python 3.9.2\\lib\\site-packages\\sklearn\\base.py:441: UserWarning: X does not have valid feature names, but KNeighborsRegressor was fitted with feature names\n",
      "  warnings.warn(\n",
      "c:\\python 3.9.2\\lib\\site-packages\\sklearn\\base.py:441: UserWarning: X does not have valid feature names, but KNeighborsRegressor was fitted with feature names\n",
      "  warnings.warn(\n",
      "c:\\python 3.9.2\\lib\\site-packages\\sklearn\\base.py:441: UserWarning: X does not have valid feature names, but KNeighborsRegressor was fitted with feature names\n",
      "  warnings.warn(\n",
      "c:\\python 3.9.2\\lib\\site-packages\\sklearn\\base.py:441: UserWarning: X does not have valid feature names, but KNeighborsRegressor was fitted with feature names\n",
      "  warnings.warn(\n",
      "c:\\python 3.9.2\\lib\\site-packages\\sklearn\\base.py:441: UserWarning: X does not have valid feature names, but KNeighborsRegressor was fitted with feature names\n",
      "  warnings.warn(\n",
      "c:\\python 3.9.2\\lib\\site-packages\\sklearn\\base.py:441: UserWarning: X does not have valid feature names, but KNeighborsRegressor was fitted with feature names\n",
      "  warnings.warn(\n",
      "c:\\python 3.9.2\\lib\\site-packages\\sklearn\\base.py:441: UserWarning: X does not have valid feature names, but KNeighborsRegressor was fitted with feature names\n",
      "  warnings.warn(\n",
      "c:\\python 3.9.2\\lib\\site-packages\\sklearn\\base.py:441: UserWarning: X does not have valid feature names, but KNeighborsRegressor was fitted with feature names\n",
      "  warnings.warn(\n",
      "c:\\python 3.9.2\\lib\\site-packages\\sklearn\\base.py:441: UserWarning: X does not have valid feature names, but KNeighborsRegressor was fitted with feature names\n",
      "  warnings.warn(\n",
      "c:\\python 3.9.2\\lib\\site-packages\\sklearn\\base.py:441: UserWarning: X does not have valid feature names, but KNeighborsRegressor was fitted with feature names\n",
      "  warnings.warn(\n",
      "c:\\python 3.9.2\\lib\\site-packages\\sklearn\\base.py:441: UserWarning: X does not have valid feature names, but KNeighborsRegressor was fitted with feature names\n",
      "  warnings.warn(\n",
      "c:\\python 3.9.2\\lib\\site-packages\\sklearn\\base.py:441: UserWarning: X does not have valid feature names, but KNeighborsRegressor was fitted with feature names\n",
      "  warnings.warn(\n",
      "c:\\python 3.9.2\\lib\\site-packages\\sklearn\\base.py:441: UserWarning: X does not have valid feature names, but KNeighborsRegressor was fitted with feature names\n",
      "  warnings.warn(\n",
      "c:\\python 3.9.2\\lib\\site-packages\\sklearn\\base.py:441: UserWarning: X does not have valid feature names, but KNeighborsRegressor was fitted with feature names\n",
      "  warnings.warn(\n",
      "c:\\python 3.9.2\\lib\\site-packages\\sklearn\\base.py:441: UserWarning: X does not have valid feature names, but KNeighborsRegressor was fitted with feature names\n",
      "  warnings.warn(\n",
      "c:\\python 3.9.2\\lib\\site-packages\\sklearn\\base.py:441: UserWarning: X does not have valid feature names, but KNeighborsRegressor was fitted with feature names\n",
      "  warnings.warn(\n",
      "c:\\python 3.9.2\\lib\\site-packages\\sklearn\\base.py:441: UserWarning: X does not have valid feature names, but KNeighborsRegressor was fitted with feature names\n",
      "  warnings.warn(\n",
      "c:\\python 3.9.2\\lib\\site-packages\\sklearn\\base.py:441: UserWarning: X does not have valid feature names, but KNeighborsRegressor was fitted with feature names\n",
      "  warnings.warn(\n",
      "c:\\python 3.9.2\\lib\\site-packages\\sklearn\\base.py:441: UserWarning: X does not have valid feature names, but KNeighborsRegressor was fitted with feature names\n",
      "  warnings.warn(\n",
      "c:\\python 3.9.2\\lib\\site-packages\\sklearn\\base.py:441: UserWarning: X does not have valid feature names, but KNeighborsRegressor was fitted with feature names\n",
      "  warnings.warn(\n",
      "c:\\python 3.9.2\\lib\\site-packages\\sklearn\\base.py:441: UserWarning: X does not have valid feature names, but KNeighborsRegressor was fitted with feature names\n",
      "  warnings.warn(\n",
      "c:\\python 3.9.2\\lib\\site-packages\\sklearn\\base.py:441: UserWarning: X does not have valid feature names, but KNeighborsRegressor was fitted with feature names\n",
      "  warnings.warn(\n",
      "c:\\python 3.9.2\\lib\\site-packages\\sklearn\\base.py:441: UserWarning: X does not have valid feature names, but KNeighborsRegressor was fitted with feature names\n",
      "  warnings.warn(\n",
      "c:\\python 3.9.2\\lib\\site-packages\\sklearn\\base.py:441: UserWarning: X does not have valid feature names, but KNeighborsRegressor was fitted with feature names\n",
      "  warnings.warn(\n",
      "c:\\python 3.9.2\\lib\\site-packages\\sklearn\\base.py:441: UserWarning: X does not have valid feature names, but KNeighborsRegressor was fitted with feature names\n",
      "  warnings.warn(\n",
      "c:\\python 3.9.2\\lib\\site-packages\\sklearn\\base.py:441: UserWarning: X does not have valid feature names, but KNeighborsRegressor was fitted with feature names\n",
      "  warnings.warn(\n",
      "c:\\python 3.9.2\\lib\\site-packages\\sklearn\\base.py:441: UserWarning: X does not have valid feature names, but KNeighborsRegressor was fitted with feature names\n",
      "  warnings.warn(\n",
      "c:\\python 3.9.2\\lib\\site-packages\\sklearn\\base.py:441: UserWarning: X does not have valid feature names, but KNeighborsRegressor was fitted with feature names\n",
      "  warnings.warn(\n",
      "c:\\python 3.9.2\\lib\\site-packages\\sklearn\\base.py:441: UserWarning: X does not have valid feature names, but KNeighborsRegressor was fitted with feature names\n",
      "  warnings.warn(\n",
      "c:\\python 3.9.2\\lib\\site-packages\\sklearn\\base.py:441: UserWarning: X does not have valid feature names, but KNeighborsRegressor was fitted with feature names\n",
      "  warnings.warn(\n",
      "c:\\python 3.9.2\\lib\\site-packages\\sklearn\\base.py:441: UserWarning: X does not have valid feature names, but KNeighborsRegressor was fitted with feature names\n",
      "  warnings.warn(\n",
      "c:\\python 3.9.2\\lib\\site-packages\\sklearn\\base.py:441: UserWarning: X does not have valid feature names, but KNeighborsRegressor was fitted with feature names\n",
      "  warnings.warn(\n",
      "c:\\python 3.9.2\\lib\\site-packages\\sklearn\\base.py:441: UserWarning: X does not have valid feature names, but KNeighborsRegressor was fitted with feature names\n",
      "  warnings.warn(\n",
      "c:\\python 3.9.2\\lib\\site-packages\\sklearn\\base.py:441: UserWarning: X does not have valid feature names, but KNeighborsRegressor was fitted with feature names\n",
      "  warnings.warn(\n",
      "c:\\python 3.9.2\\lib\\site-packages\\sklearn\\base.py:441: UserWarning: X does not have valid feature names, but KNeighborsRegressor was fitted with feature names\n",
      "  warnings.warn(\n",
      "c:\\python 3.9.2\\lib\\site-packages\\sklearn\\base.py:441: UserWarning: X does not have valid feature names, but KNeighborsRegressor was fitted with feature names\n",
      "  warnings.warn(\n",
      "c:\\python 3.9.2\\lib\\site-packages\\sklearn\\base.py:441: UserWarning: X does not have valid feature names, but KNeighborsRegressor was fitted with feature names\n",
      "  warnings.warn(\n",
      "c:\\python 3.9.2\\lib\\site-packages\\sklearn\\base.py:441: UserWarning: X does not have valid feature names, but KNeighborsRegressor was fitted with feature names\n",
      "  warnings.warn(\n",
      "c:\\python 3.9.2\\lib\\site-packages\\sklearn\\base.py:441: UserWarning: X does not have valid feature names, but KNeighborsRegressor was fitted with feature names\n",
      "  warnings.warn(\n",
      "c:\\python 3.9.2\\lib\\site-packages\\sklearn\\base.py:441: UserWarning: X does not have valid feature names, but KNeighborsRegressor was fitted with feature names\n",
      "  warnings.warn(\n",
      "c:\\python 3.9.2\\lib\\site-packages\\sklearn\\base.py:441: UserWarning: X does not have valid feature names, but KNeighborsRegressor was fitted with feature names\n",
      "  warnings.warn(\n",
      "c:\\python 3.9.2\\lib\\site-packages\\sklearn\\base.py:441: UserWarning: X does not have valid feature names, but KNeighborsRegressor was fitted with feature names\n",
      "  warnings.warn(\n",
      "c:\\python 3.9.2\\lib\\site-packages\\sklearn\\base.py:441: UserWarning: X does not have valid feature names, but KNeighborsRegressor was fitted with feature names\n",
      "  warnings.warn(\n",
      "c:\\python 3.9.2\\lib\\site-packages\\sklearn\\base.py:441: UserWarning: X does not have valid feature names, but KNeighborsRegressor was fitted with feature names\n",
      "  warnings.warn(\n",
      "c:\\python 3.9.2\\lib\\site-packages\\sklearn\\base.py:441: UserWarning: X does not have valid feature names, but KNeighborsRegressor was fitted with feature names\n",
      "  warnings.warn(\n",
      "c:\\python 3.9.2\\lib\\site-packages\\sklearn\\base.py:441: UserWarning: X does not have valid feature names, but KNeighborsRegressor was fitted with feature names\n",
      "  warnings.warn(\n",
      "c:\\python 3.9.2\\lib\\site-packages\\sklearn\\base.py:441: UserWarning: X does not have valid feature names, but KNeighborsRegressor was fitted with feature names\n",
      "  warnings.warn(\n",
      "c:\\python 3.9.2\\lib\\site-packages\\sklearn\\base.py:441: UserWarning: X does not have valid feature names, but KNeighborsRegressor was fitted with feature names\n",
      "  warnings.warn(\n",
      "c:\\python 3.9.2\\lib\\site-packages\\sklearn\\base.py:441: UserWarning: X does not have valid feature names, but KNeighborsRegressor was fitted with feature names\n",
      "  warnings.warn(\n",
      "c:\\python 3.9.2\\lib\\site-packages\\sklearn\\base.py:441: UserWarning: X does not have valid feature names, but KNeighborsRegressor was fitted with feature names\n",
      "  warnings.warn(\n",
      "c:\\python 3.9.2\\lib\\site-packages\\sklearn\\base.py:441: UserWarning: X does not have valid feature names, but KNeighborsRegressor was fitted with feature names\n",
      "  warnings.warn(\n",
      "c:\\python 3.9.2\\lib\\site-packages\\sklearn\\base.py:441: UserWarning: X does not have valid feature names, but KNeighborsRegressor was fitted with feature names\n",
      "  warnings.warn(\n",
      "c:\\python 3.9.2\\lib\\site-packages\\sklearn\\base.py:441: UserWarning: X does not have valid feature names, but KNeighborsRegressor was fitted with feature names\n",
      "  warnings.warn(\n",
      "c:\\python 3.9.2\\lib\\site-packages\\sklearn\\base.py:441: UserWarning: X does not have valid feature names, but KNeighborsRegressor was fitted with feature names\n",
      "  warnings.warn(\n",
      "c:\\python 3.9.2\\lib\\site-packages\\sklearn\\base.py:441: UserWarning: X does not have valid feature names, but KNeighborsRegressor was fitted with feature names\n",
      "  warnings.warn(\n",
      "c:\\python 3.9.2\\lib\\site-packages\\sklearn\\base.py:441: UserWarning: X does not have valid feature names, but KNeighborsRegressor was fitted with feature names\n",
      "  warnings.warn(\n",
      "c:\\python 3.9.2\\lib\\site-packages\\sklearn\\base.py:441: UserWarning: X does not have valid feature names, but KNeighborsRegressor was fitted with feature names\n",
      "  warnings.warn(\n",
      "c:\\python 3.9.2\\lib\\site-packages\\sklearn\\base.py:441: UserWarning: X does not have valid feature names, but KNeighborsRegressor was fitted with feature names\n",
      "  warnings.warn(\n",
      "c:\\python 3.9.2\\lib\\site-packages\\sklearn\\base.py:441: UserWarning: X does not have valid feature names, but KNeighborsRegressor was fitted with feature names\n",
      "  warnings.warn(\n",
      "c:\\python 3.9.2\\lib\\site-packages\\sklearn\\base.py:441: UserWarning: X does not have valid feature names, but KNeighborsRegressor was fitted with feature names\n",
      "  warnings.warn(\n",
      "c:\\python 3.9.2\\lib\\site-packages\\sklearn\\base.py:441: UserWarning: X does not have valid feature names, but KNeighborsRegressor was fitted with feature names\n",
      "  warnings.warn(\n",
      "c:\\python 3.9.2\\lib\\site-packages\\sklearn\\base.py:441: UserWarning: X does not have valid feature names, but KNeighborsRegressor was fitted with feature names\n",
      "  warnings.warn(\n",
      "c:\\python 3.9.2\\lib\\site-packages\\sklearn\\base.py:441: UserWarning: X does not have valid feature names, but KNeighborsRegressor was fitted with feature names\n",
      "  warnings.warn(\n",
      "c:\\python 3.9.2\\lib\\site-packages\\sklearn\\base.py:441: UserWarning: X does not have valid feature names, but KNeighborsRegressor was fitted with feature names\n",
      "  warnings.warn(\n",
      "c:\\python 3.9.2\\lib\\site-packages\\sklearn\\base.py:441: UserWarning: X does not have valid feature names, but KNeighborsRegressor was fitted with feature names\n",
      "  warnings.warn(\n",
      "c:\\python 3.9.2\\lib\\site-packages\\sklearn\\base.py:441: UserWarning: X does not have valid feature names, but KNeighborsRegressor was fitted with feature names\n",
      "  warnings.warn(\n",
      "c:\\python 3.9.2\\lib\\site-packages\\sklearn\\base.py:441: UserWarning: X does not have valid feature names, but KNeighborsRegressor was fitted with feature names\n",
      "  warnings.warn(\n",
      "c:\\python 3.9.2\\lib\\site-packages\\sklearn\\base.py:441: UserWarning: X does not have valid feature names, but KNeighborsRegressor was fitted with feature names\n",
      "  warnings.warn(\n",
      "c:\\python 3.9.2\\lib\\site-packages\\sklearn\\base.py:441: UserWarning: X does not have valid feature names, but KNeighborsRegressor was fitted with feature names\n",
      "  warnings.warn(\n",
      "c:\\python 3.9.2\\lib\\site-packages\\sklearn\\base.py:441: UserWarning: X does not have valid feature names, but KNeighborsRegressor was fitted with feature names\n",
      "  warnings.warn(\n",
      "c:\\python 3.9.2\\lib\\site-packages\\sklearn\\base.py:441: UserWarning: X does not have valid feature names, but KNeighborsRegressor was fitted with feature names\n",
      "  warnings.warn(\n",
      "c:\\python 3.9.2\\lib\\site-packages\\sklearn\\base.py:441: UserWarning: X does not have valid feature names, but KNeighborsRegressor was fitted with feature names\n",
      "  warnings.warn(\n",
      "c:\\python 3.9.2\\lib\\site-packages\\sklearn\\base.py:441: UserWarning: X does not have valid feature names, but KNeighborsRegressor was fitted with feature names\n",
      "  warnings.warn(\n",
      "c:\\python 3.9.2\\lib\\site-packages\\sklearn\\base.py:441: UserWarning: X does not have valid feature names, but KNeighborsRegressor was fitted with feature names\n",
      "  warnings.warn(\n",
      "c:\\python 3.9.2\\lib\\site-packages\\sklearn\\base.py:441: UserWarning: X does not have valid feature names, but KNeighborsRegressor was fitted with feature names\n",
      "  warnings.warn(\n",
      "c:\\python 3.9.2\\lib\\site-packages\\sklearn\\base.py:441: UserWarning: X does not have valid feature names, but KNeighborsRegressor was fitted with feature names\n",
      "  warnings.warn(\n",
      "c:\\python 3.9.2\\lib\\site-packages\\sklearn\\base.py:441: UserWarning: X does not have valid feature names, but KNeighborsRegressor was fitted with feature names\n",
      "  warnings.warn(\n",
      "c:\\python 3.9.2\\lib\\site-packages\\sklearn\\base.py:441: UserWarning: X does not have valid feature names, but KNeighborsRegressor was fitted with feature names\n",
      "  warnings.warn(\n",
      "c:\\python 3.9.2\\lib\\site-packages\\sklearn\\base.py:441: UserWarning: X does not have valid feature names, but KNeighborsRegressor was fitted with feature names\n",
      "  warnings.warn(\n",
      "c:\\python 3.9.2\\lib\\site-packages\\sklearn\\base.py:441: UserWarning: X does not have valid feature names, but KNeighborsRegressor was fitted with feature names\n",
      "  warnings.warn(\n",
      "c:\\python 3.9.2\\lib\\site-packages\\sklearn\\base.py:441: UserWarning: X does not have valid feature names, but KNeighborsRegressor was fitted with feature names\n",
      "  warnings.warn(\n",
      "c:\\python 3.9.2\\lib\\site-packages\\sklearn\\base.py:441: UserWarning: X does not have valid feature names, but KNeighborsRegressor was fitted with feature names\n",
      "  warnings.warn(\n",
      "c:\\python 3.9.2\\lib\\site-packages\\sklearn\\base.py:441: UserWarning: X does not have valid feature names, but KNeighborsRegressor was fitted with feature names\n",
      "  warnings.warn(\n",
      "c:\\python 3.9.2\\lib\\site-packages\\sklearn\\base.py:441: UserWarning: X does not have valid feature names, but KNeighborsRegressor was fitted with feature names\n",
      "  warnings.warn(\n",
      "c:\\python 3.9.2\\lib\\site-packages\\sklearn\\base.py:441: UserWarning: X does not have valid feature names, but KNeighborsRegressor was fitted with feature names\n",
      "  warnings.warn(\n",
      "c:\\python 3.9.2\\lib\\site-packages\\sklearn\\base.py:441: UserWarning: X does not have valid feature names, but KNeighborsRegressor was fitted with feature names\n",
      "  warnings.warn(\n",
      "c:\\python 3.9.2\\lib\\site-packages\\sklearn\\base.py:441: UserWarning: X does not have valid feature names, but KNeighborsRegressor was fitted with feature names\n",
      "  warnings.warn(\n",
      "c:\\python 3.9.2\\lib\\site-packages\\sklearn\\base.py:441: UserWarning: X does not have valid feature names, but KNeighborsRegressor was fitted with feature names\n",
      "  warnings.warn(\n",
      "c:\\python 3.9.2\\lib\\site-packages\\sklearn\\base.py:441: UserWarning: X does not have valid feature names, but KNeighborsRegressor was fitted with feature names\n",
      "  warnings.warn(\n",
      "c:\\python 3.9.2\\lib\\site-packages\\sklearn\\base.py:441: UserWarning: X does not have valid feature names, but KNeighborsRegressor was fitted with feature names\n",
      "  warnings.warn(\n",
      "c:\\python 3.9.2\\lib\\site-packages\\sklearn\\base.py:441: UserWarning: X does not have valid feature names, but KNeighborsRegressor was fitted with feature names\n",
      "  warnings.warn(\n",
      "c:\\python 3.9.2\\lib\\site-packages\\sklearn\\base.py:441: UserWarning: X does not have valid feature names, but KNeighborsRegressor was fitted with feature names\n",
      "  warnings.warn(\n"
     ]
    },
    {
     "name": "stdout",
     "output_type": "stream",
     "text": [
      "KNeighborsRegressor(n_neighbors=10)\n"
     ]
    }
   ],
   "source": [
    "#K-Nearest Neighbours\n",
    "from sklearn.neighbors import KNeighborsRegressor\n",
    "knn = KNeighborsRegressor()\n",
    "\n",
    "param_grid={\n",
    "    'n_neighbors':[1,2,3,4,5,6,7,8,9,10]\n",
    "}\n",
    "\n",
    "knn_grid_search = GridSearchCV(knn,param_grid=param_grid,\n",
    "                  cv=5,scoring='neg_mean_squared_error',\n",
    "                  return_train_score=True)\n",
    "knn_grid_search.fit(X_train,y_train)\n",
    "knn_grid_search.best_params_\n",
    "print(knn_grid_search.best_estimator_)"
   ]
  },
  {
   "cell_type": "code",
   "execution_count": 90,
   "id": "f9c6c458",
   "metadata": {},
   "outputs": [
    {
     "name": "stderr",
     "output_type": "stream",
     "text": [
      "c:\\python 3.9.2\\lib\\site-packages\\sklearn\\base.py:441: UserWarning: X does not have valid feature names, but KNeighborsRegressor was fitted with feature names\n",
      "  warnings.warn(\n",
      "c:\\python 3.9.2\\lib\\site-packages\\sklearn\\base.py:441: UserWarning: X does not have valid feature names, but KNeighborsRegressor was fitted with feature names\n",
      "  warnings.warn(\n"
     ]
    }
   ],
   "source": [
    "knn_reg = KNeighborsRegressor(n_neighbors=10)\n",
    "knn_reg.fit(X_train,y_train)\n",
    "train_mse.append(mean_squared_error(y_train,knn_reg.predict(X_train)))\n",
    "test_mse.append(mean_squared_error(y_test,knn_reg.predict(X_test)))"
   ]
  },
  {
   "cell_type": "markdown",
   "id": "adfba253",
   "metadata": {},
   "source": [
    "# Comparing model MSE"
   ]
  },
  {
   "cell_type": "code",
   "execution_count": 91,
   "id": "1681f372",
   "metadata": {},
   "outputs": [
    {
     "name": "stderr",
     "output_type": "stream",
     "text": [
      "c:\\python 3.9.2\\lib\\site-packages\\seaborn\\_decorators.py:36: FutureWarning: Pass the following variables as keyword args: x, y. From version 0.12, the only valid positional argument will be `data`, and passing other arguments without an explicit keyword will result in an error or misinterpretation.\n",
      "  warnings.warn(\n",
      "c:\\python 3.9.2\\lib\\site-packages\\seaborn\\_decorators.py:36: FutureWarning: Pass the following variables as keyword args: x, y. From version 0.12, the only valid positional argument will be `data`, and passing other arguments without an explicit keyword will result in an error or misinterpretation.\n",
      "  warnings.warn(\n"
     ]
    },
    {
     "data": {
      "text/plain": [
       "Text(0.5, 1.0, 'Mean squared error by model')"
      ]
     },
     "execution_count": 91,
     "metadata": {},
     "output_type": "execute_result"
    },
    {
     "data": {
      "image/png": "[encoded data removed]",
      "text/plain": [
       "<Figure size 864x360 with 1 Axes>"
      ]
     },
     "metadata": {
      "needs_background": "light"
     },
     "output_type": "display_data"
    }
   ],
   "source": [
    "plt.figure(figsize=(12,5))\n",
    "sns.lineplot(['linear','dtree','dtree_pruned','rf','rf_cv','ada','ada_cv','knn'],train_mse,label='Train Score', color = 'Orange')\n",
    "sns.lineplot(['linear','dtree','dtree_pruned','rf','rf_cv','ada','ada_cv','knn'],test_mse,label='Test Score', color = 'Blue')\n",
    "plt.title(\"Mean squared error by model\")"
   ]
  },
  {
   "cell_type": "code",
   "execution_count": 92,
   "id": "5beb78d3",
   "metadata": {},
   "outputs": [
    {
     "name": "stdout",
     "output_type": "stream",
     "text": [
      "('linear', 47.854940352301206, 48.63402502831464)\n",
      "('dtree', 35.96973087885055, 38.14948767174179)\n",
      "('dtree_pruned', 36.731328775753326, 37.78285185898964)\n",
      "('rf', 35.99526294552403, 38.010070875969376)\n",
      "('rf_cv', 36.619893633194785, 37.72093478053871)\n",
      "('ada', 48.116353427400654, 49.13181188016171)\n",
      "('ada_cv', 44.875875144266786, 46.20140732592675)\n",
      "('knn', 38.7893375982453, 40.277680666739776)\n"
     ]
    }
   ],
   "source": [
    "list = ['linear','dtree','dtree_pruned','rf','rf_cv','ada','ada_cv','knn']\n",
    "for i in zip(list, train_mse, test_mse):\n",
    "    print(i)"
   ]
  },
  {
   "cell_type": "code",
   "execution_count": null,
   "id": "e9affe66",
   "metadata": {},
   "outputs": [],
   "source": []
  }
 ],
 "metadata": {
  "kernelspec": {
   "display_name": "Python 3 (ipykernel)",
   "language": "python",
   "name": "python3"
  },
  "language_info": {
   "codemirror_mode": {
    "name": "ipython",
    "version": 3
   },
   "file_extension": ".py",
   "mimetype": "text/x-python",
   "name": "python",
   "nbconvert_exporter": "python",
   "pygments_lexer": "ipython3",
   "version": "3.9.2"
  }
 },
 "nbformat": 4,
 "nbformat_minor": 5
}
